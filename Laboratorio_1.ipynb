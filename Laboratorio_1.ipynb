{
  "nbformat": 4,
  "nbformat_minor": 0,
  "metadata": {
    "colab": {
      "name": "Laboratorio_1.ipynb",
      "provenance": [],
      "mount_file_id": "1Zek9ctjtKo9INJava8FTEgC5Ezg4FvVu",
      "authorship_tag": "ABX9TyN4gvFssWKe7YSDjrx7IGF2",
      "include_colab_link": true
    },
    "kernelspec": {
      "name": "python3",
      "display_name": "Python 3"
    },
    "language_info": {
      "name": "python"
    }
  },
  "cells": [
    {
      "cell_type": "markdown",
      "metadata": {
        "id": "view-in-github",
        "colab_type": "text"
      },
      "source": [
        "<a href=\"https://colab.research.google.com/github/PaolaMG9/Ciencia-de-Datos-en-Python/blob/main/Laboratorio_1.ipynb\" target=\"_parent\"><img src=\"https://colab.research.google.com/assets/colab-badge.svg\" alt=\"Open In Colab\"/></a>"
      ]
    },
    {
      "cell_type": "code",
      "metadata": {
        "id": "oCKt9Enup3wj"
      },
      "source": [
        "class my_regresion:\n",
        "  #constructor\n",
        "  def __init__(self, x, y):\n",
        "    x_ = sum(x)\n",
        "    y_ = sum(y)\n",
        "    term1 = sum([b0 * b1 for b0, b1 in zip(x, y)])\n",
        "    term2 = sum([b0**2 for b0 in x])\n",
        "    self.b0 = (len(x)*(term1-(x_*y_))/(len(x)*(term2-(x_^2))))\n",
        "    self.b1 = (len(x)*(term2*y_)-(x_*(x_*y_)))/(len(x)*(term2-(x_^2)))\n",
        "\n",
        "  def predict(self, val):\n",
        "    self.predict = self.b0*val+self.b1\n",
        "    r1 = print(\"predict:\\n {}\\n\".format(self.predict))\n",
        "\n",
        "\n",
        "  def PredictN(self, val): \n",
        "        val = val.split(\",\")\n",
        "        val = [int(x) for x in val]\n",
        "        self.PredictN = [self.b0*p+self.b1 for p in val]\n",
        "        r1 = print(\"PredictN:\\n {}\\n\".format(self.PredictN))\n",
        "\n",
        "  def r2(self): \n",
        "      pred = [self.b0*p+self.b1 for p in x]\n",
        "      numerador = sum([(b0-b1)**2 for b0, b1 in zip(y, pred)])\n",
        "      denominador = sum([(b0-sum(y)/len(y))**2 for b0 in y])\n",
        "      self.r2 = 1-((numerador)/(denominador))        \n",
        "      r1 = print(\"Coeficiente de determinacion:\\n {}\\n\".format(self.r2))\n",
        "  \n",
        "  def r(self): \n",
        "      self.r = pow(self.r2, 0.5)\n",
        "      r1 = print(\"Coeficiente de correlación:\\n {}\\n\".format(self.r))\n",
        "  \n",
        "  def getAllRegParams(self):\n",
        "      self.results = {\"a\":self.b0, \"b\":self.b1, \"r2\":self.r2, \"r\":self.r}\n",
        "      r1 = print(\"Par\u0013ametros y estad\u0013\u0010sticos de la regresi\u0013on lineal:\\n {}/n\".format(self.results))"
      ],
      "execution_count": 26,
      "outputs": []
    },
    {
      "cell_type": "code",
      "metadata": {
        "colab": {
          "base_uri": "https://localhost:8080/"
        },
        "id": "qJRiLrGwqNAE",
        "outputId": "ae994f47-6ae3-4df2-c17c-589ac07a7b1e"
      },
      "source": [
        "y = [2,8,12,6,8,10,7,3,9,13]\n",
        "x = [10,20,18,14,18,17,10,12,22,13]\n",
        "\n",
        "inciso = my_regresion(x, y)\n",
        "\n",
        "inciso.predict(30)\n",
        "\n",
        "inciso.PredictN(\"15, 21, 11, 9\")\n",
        "\n",
        "inciso.r2()\n",
        "\n",
        "inciso.r()\n",
        "\n",
        "inciso.getAllRegParams()"
      ],
      "execution_count": 29,
      "outputs": [
        {
          "output_type": "stream",
          "name": "stdout",
          "text": [
            "predict:\n",
            " -130.35946173254837\n",
            "\n",
            "PredictN:\n",
            " [-62.58191757779647, -89.69293523969722, -44.50790580319596, -35.47089991589571]\n",
            "\n",
            "Coeficiente de determinacion:\n",
            " -501.26921538517735\n",
            "\n",
            "Coeficiente de correlación:\n",
            " (1.3709334498081531e-15+22.3890423061188j)\n",
            "\n",
            "Par\u0013ametros y estad\u0013\u0010sticos de la regresi\u0013on lineal:\n",
            " {'a': -4.518502943650126, 'b': 5.195626576955425, 'r2': -501.26921538517735, 'r': (1.3709334498081531e-15+22.3890423061188j)}/n\n"
          ]
        }
      ]
    },
    {
      "cell_type": "markdown",
      "metadata": {
        "id": "6oZRF3Zb2Adj"
      },
      "source": [
        "Constructor from \fle(\fleName):"
      ]
    },
    {
      "cell_type": "code",
      "metadata": {
        "id": "p2wFfIJp17xt"
      },
      "source": [
        "class from_file:\n",
        "\n",
        "  def __init__(self, fileName):\n",
        "      dataset = open(fileName)\n",
        "      y = []\n",
        "      x = []\n",
        "      for fila in dataset:\n",
        "          a = fila.split(';')\n",
        "          a = [i.strip() for i in a]\n",
        "          y.append(int(a[0]))\n",
        "          x.append(int(a[1]))\n",
        "      r1 = print(\"Datos CSV:\\n {}\\n\".format(y, x))\n",
        "\n",
        "      x_ = sum(x)\n",
        "      y_ = sum(y)\n",
        "      term1 = sum([b0 * b1 for b0, b1 in zip(x, y)])\n",
        "      term2 = sum([b0**2 for b0 in x])\n",
        "      self.b0 = (len(x)*(term1-(x_*y_))/(len(x)*(term2-(x_^2))))\n",
        "      self.b1 = (len(x)*(term2*y_)-(x_*(x_*y_)))/(len(x)*(term2-(x_^2)))\n",
        "\n",
        "  def predict(self, val):\n",
        "    self.predict = self.b0*val+self.b1\n",
        "    r1 = print(\"predict:\\n {}\\n\".format(self.predict))\n",
        "\n",
        "\n",
        "  def PredictN(self, val): \n",
        "        val = val.split(\",\")\n",
        "        val = [int(x) for x in val]\n",
        "        self.PredictN = [self.b0*p+self.b1 for p in val]\n",
        "        r1 = print(\"PredictN:\\n {}\\n\".format(self.PredictN))\n",
        "\n",
        "  def r2(self): \n",
        "      pred = [self.b0*p+self.b1 for p in x]\n",
        "      numerador = sum([(b0-b1)**2 for b0, b1 in zip(y, pred)])\n",
        "      denominador = sum([(b0-sum(y)/len(y))**2 for b0 in y])\n",
        "      self.r2 = 1-((numerador)/(denominador))        \n",
        "      r1 = print(\"Coeficiente de determinacion:\\n {}\\n\".format(self.r2))\n",
        "  \n",
        "  def r(self): \n",
        "      self.r = pow(self.r2, 0.5)\n",
        "      r1 = print(\"Coeficiente de correlación:\\n {}\\n\".format(self.r))\n",
        "  \n",
        "  def getAllRegParams(self):\n",
        "      self.results = {\"a\":self.b0, \"b\":self.b1, \"r2\":self.r2, \"r\":self.r}\n",
        "      r1 = print(\"Par\u0013ametros y estad\u0013\u0010sticos de la regresi\u0013on lineal:\\n {}/n\".format(self.results))"
      ],
      "execution_count": 33,
      "outputs": []
    },
    {
      "cell_type": "code",
      "metadata": {
        "colab": {
          "base_uri": "https://localhost:8080/"
        },
        "id": "KZ-sv0jD3Ova",
        "outputId": "3bf1dd37-65d2-447f-dbd2-ea6526fb2044"
      },
      "source": [
        "data = from_file('/content/drive/MyDrive/Data Products Development/Lab_1.csv')\n",
        "\n",
        "inciso = my_regresion(x, y)\n",
        "\n",
        "inciso.predict(30)\n",
        "\n",
        "inciso.PredictN(\"15, 21, 11, 9\")\n",
        "\n",
        "inciso.r2()\n",
        "\n",
        "inciso.r()\n",
        "\n",
        "inciso.getAllRegParams()"
      ],
      "execution_count": 34,
      "outputs": [
        {
          "output_type": "stream",
          "name": "stdout",
          "text": [
            "Datos CSV:\n",
            " [2, 8, 12, 6, 8, 10, 7, 3, 9, 13]\n",
            "\n",
            "predict:\n",
            " -130.35946173254837\n",
            "\n",
            "PredictN:\n",
            " [-62.58191757779647, -89.69293523969722, -44.50790580319596, -35.47089991589571]\n",
            "\n",
            "Coeficiente de determinacion:\n",
            " -501.26921538517735\n",
            "\n",
            "Coeficiente de correlación:\n",
            " (1.3709334498081531e-15+22.3890423061188j)\n",
            "\n",
            "Par\u0013ametros y estad\u0013\u0010sticos de la regresi\u0013on lineal:\n",
            " {'a': -4.518502943650126, 'b': 5.195626576955425, 'r2': -501.26921538517735, 'r': (1.3709334498081531e-15+22.3890423061188j)}/n\n"
          ]
        }
      ]
    }
  ]
}