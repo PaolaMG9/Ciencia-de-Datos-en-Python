{
  "nbformat": 4,
  "nbformat_minor": 0,
  "metadata": {
    "colab": {
      "name": "Lab 3.ipynb",
      "provenance": [],
      "collapsed_sections": [],
      "include_colab_link": true
    },
    "kernelspec": {
      "name": "python3",
      "display_name": "Python 3"
    }
  },
  "cells": [
    {
      "cell_type": "markdown",
      "metadata": {
        "id": "view-in-github",
        "colab_type": "text"
      },
      "source": [
        "<a href=\"https://colab.research.google.com/github/PaolaMG9/Ciencia-de-Datos-en-Python/blob/main/Lab_3.ipynb\" target=\"_parent\"><img src=\"https://colab.research.google.com/assets/colab-badge.svg\" alt=\"Open In Colab\"/></a>"
      ]
    },
    {
      "cell_type": "markdown",
      "metadata": {
        "id": "QpzHkXJnrmw2"
      },
      "source": [
        "# <div style=\"text-align: center\"> **LABORATORIO 3** \r\n",
        "## ***Sintaxis, Listas y Tuplas***\r\n",
        "#### Alicia Paola Méndez Girón _20000135_\r\n",
        "#### Dulce Rocío Sosa Cerna _20000140_\r\n",
        "#### José Alejandro Llamas _20002501_"
      ]
    },
    {
      "cell_type": "markdown",
      "metadata": {
        "id": "n4IRWbAAFeut"
      },
      "source": [
        "## ***Parte #1 - (Programaci\u0013on y Sintaxis):***\r\n",
        ">A continuaci\u0013on se le muestran una lista de ejercicios que deber\u0013a completar utilizando Python, debe usar Markdown para indicar donde inicia cada uno de los ejercicios."
      ]
    },
    {
      "cell_type": "markdown",
      "metadata": {
        "id": "Y_h0fDuhA9RQ"
      },
      "source": [
        "## **Ejercicio 1**"
      ]
    },
    {
      "cell_type": "markdown",
      "metadata": {
        "id": "zvTkDRz-CIAS"
      },
      "source": [
        ">Haga un programa en Python que reciba de par\u0013ametro un n\u0013umero de segundos y que despliegue en pantalla, las horas, minutos y segundos que representan."
      ]
    },
    {
      "cell_type": "code",
      "metadata": {
        "id": "HWgBuaLBA6ei",
        "colab": {
          "base_uri": "https://localhost:8080/"
        },
        "outputId": "54bff788-93c0-4c01-80cf-52edd5e6c1fc"
      },
      "source": [
        "try:\r\n",
        "  segundos = int(input(\"Ingrese un número entero: \"))\r\n",
        "\r\n",
        "  minutos = segundos // 60\r\n",
        "  rest_seg= segundos % 60\r\n",
        "  horas = minutos // 60\r\n",
        "  rest_minutos= minutos % 60\r\n",
        "\r\n",
        "  print(\"Horas: \", horas, \"Minutos: \", rest_minutos, \"Segundos: \", rest_seg)\r\n",
        "\r\n",
        "except(ValueError):\r\n",
        "        print(\"Número inválido.\")\r\n",
        "        print(\"Saliendo...\")\r\n",
        "finally:\r\n",
        "        print(\"--Fin del programa--\")"
      ],
      "execution_count": null,
      "outputs": [
        {
          "output_type": "stream",
          "text": [
            "Ingrese un número entero: a\n",
            "Número inválido.\n",
            "Saliendo...\n",
            "--Fin del programa--\n"
          ],
          "name": "stdout"
        }
      ]
    },
    {
      "cell_type": "markdown",
      "metadata": {
        "id": "V-kHxR8dCR1L"
      },
      "source": [
        "## **Ejercicio 2**"
      ]
    },
    {
      "cell_type": "markdown",
      "metadata": {
        "id": "fA7NK81qCVJ8"
      },
      "source": [
        ">Haga una funci\u0013on en Python que dado un n\u0013umero entre 1 y 20. Y un car\u0013acter cualquiera despliegue cuatro patrones triangulares."
      ]
    },
    {
      "cell_type": "code",
      "metadata": {
        "colab": {
          "base_uri": "https://localhost:8080/"
        },
        "id": "xkmNvHuRCbEU",
        "outputId": "387f062d-0cea-480b-a96b-b39b8d6200c9"
      },
      "source": [
        "try:\r\n",
        "    numero = int(input(\"Ingrese un número entero entre 1 y 20: \"))\r\n",
        "    caracter = str(input(\"Ingrese un carácter: \"))\r\n",
        "    for i in range (0, numero+1,1):\r\n",
        "          print(caracter*i)\r\n",
        "    for i in range (0,numero+1):\r\n",
        "          blank=numero-i\r\n",
        "          print(' '*blank, caracter*i)\r\n",
        "    for i in range (0, numero+1,1):\r\n",
        "          print(caracter*i)\r\n",
        "    for i in range (0,numero+1):\r\n",
        "          blank=numero-i\r\n",
        "          print(' '*blank, caracter*i)   \r\n",
        "except(ValueError):\r\n",
        "        print(\"Número inválido.\")\r\n",
        "        print(\"Saliendo...\")\r\n"
      ],
      "execution_count": null,
      "outputs": [
        {
          "output_type": "stream",
          "text": [
            "Ingrese un número entero entre 1 y 20: 3\n",
            "Ingrese un carácter: *\n",
            "\n",
            "*\n",
            "**\n",
            "***\n",
            "    \n",
            "   *\n",
            "  **\n",
            " ***\n",
            "\n",
            "*\n",
            "**\n",
            "***\n",
            "    \n",
            "   *\n",
            "  **\n",
            " ***\n"
          ],
          "name": "stdout"
        }
      ]
    },
    {
      "cell_type": "markdown",
      "metadata": {
        "id": "5SUu-ui7qLVO"
      },
      "source": [
        "## **Ejercicio 3**"
      ]
    },
    {
      "cell_type": "markdown",
      "metadata": {
        "id": "WMo7uQAIqOBV"
      },
      "source": [
        ">Haga un programa en Python que la fecha de nacimiento de una persona (puede ingresar por separado cada valor, es decir pedir primero d\u0013\u0010a, luego mes y luego año), despliegue la edad de la persona en años, meses y d\u0013\u0010ías. Su resultado puede ser aproximado."
      ]
    },
    {
      "cell_type": "code",
      "metadata": {
        "colab": {
          "base_uri": "https://localhost:8080/"
        },
        "id": "epKC0w-OFeKe",
        "outputId": "5bee42cf-73d1-4d89-8962-e434458a3b4c"
      },
      "source": [
        "import re\r\n",
        "from datetime import date\r\n",
        "\r\n",
        "def anios_edad (fecha_nacimiento):\r\n",
        "  try:\r\n",
        "    patron='^([0-9][0-9][0-9][0-9])(\\/|-|\\s|.)(0?[1-9]|1[0-2])(\\/|-|\\s|.)(0?[1-9]|1[0-9]|2[0-9]|3[0-1])$'\r\n",
        "    x = re.search(patron, fecha_nacimiento)\r\n",
        "    fecha_actual=date.today()\r\n",
        "    fecha= fecha_actual.year - int(x.group(1))\r\n",
        "    fecha -= ((fecha_actual.month, fecha_actual.day) < (int(x.group(3)), int(x.group(5))))\r\n",
        "    return fecha\r\n",
        "  except AttributeError:\r\n",
        "     print(\"Error en fecha ingresada...\")\r\n",
        "\r\n",
        "def main():\r\n",
        "  try:\r\n",
        "    fecha_nacimiento = input(\"Ingrese una fecha: \") #dd/mm/yy\r\n",
        "    validacion = anios_edad(fecha_nacimiento)\r\n",
        "    print(\"La edad es: \", validacion)\r\n",
        "  except AttributeError:\r\n",
        "    print(\"Edad no encontrada\")\r\n",
        "  except ValueError:\r\n",
        "    print(\"Error en los datos\")\r\n",
        "  finally:\r\n",
        "    print(\"..Fin programa..\")\r\n",
        "main()"
      ],
      "execution_count": null,
      "outputs": [
        {
          "output_type": "stream",
          "text": [
            "Ingrese una fecha: ff/02/03\n",
            "Error en fecha ingresada...\n",
            "La edad es:  None\n",
            "..Fin programa..\n"
          ],
          "name": "stdout"
        }
      ]
    },
    {
      "cell_type": "markdown",
      "metadata": {
        "id": "iJZnXDrEFVs6"
      },
      "source": [
        "# ***Parte #2 - (Estructuras de Datos):***\r\n",
        ">Resuelva los siguientes ejercicios sobre estructuras de datos en Python."
      ]
    },
    {
      "cell_type": "markdown",
      "metadata": {
        "id": "MszZS2WMOhzZ"
      },
      "source": [
        "## **Ejercicio 1**\r\n"
      ]
    },
    {
      "cell_type": "markdown",
      "metadata": {
        "id": "hUEado4cO1va"
      },
      "source": [
        ">Escriba una funcion en Python que dada una tupla de elementos (numeros o letras) esta se convierta a un string.\r\n"
      ]
    },
    {
      "cell_type": "code",
      "metadata": {
        "id": "EM_0dl5wVnnJ",
        "colab": {
          "base_uri": "https://localhost:8080/"
        },
        "outputId": "e6f0c658-25af-4f72-eaea-bf0b6669fb7e"
      },
      "source": [
        "def convertTuple(tup): \r\n",
        "  try:\r\n",
        "    str =  ''.join(tup) \r\n",
        "    return str\r\n",
        "  except AttributeError:\r\n",
        "    print(\"Error...\")\r\n",
        "\r\n",
        "def main():\r\n",
        "  try:\r\n",
        "    tup = tuple(input(\"Ingrese elementos:\"))#letras o numeros\r\n",
        "    print(tup)  \r\n",
        "    str = convertTuple(tup) \r\n",
        "    print(str) \r\n",
        "  except AttributeError:\r\n",
        "    print(\"Error...\")\r\n",
        "  finally:\r\n",
        "    print(\"..Fin programa..\")\r\n",
        "main()\r\n"
      ],
      "execution_count": null,
      "outputs": [
        {
          "output_type": "stream",
          "text": [
            "Ingrese elementos:Hola\n",
            "('H', 'o', 'l', 'a')\n",
            "Hola\n",
            "..Fin programa..\n"
          ],
          "name": "stdout"
        }
      ]
    },
    {
      "cell_type": "markdown",
      "metadata": {
        "id": "rXo1hrf9Z75J"
      },
      "source": [
        "## **Ejercicio 2**\r\n"
      ]
    },
    {
      "cell_type": "markdown",
      "metadata": {
        "id": "yH8jZelBZ3o-"
      },
      "source": [
        ">Cree un programa en Python que dada una lista de tuplas, elimine las tuplas que estan vacias."
      ]
    },
    {
      "cell_type": "code",
      "metadata": {
        "colab": {
          "base_uri": "https://localhost:8080/"
        },
        "id": "JhDO5EJbaHsk",
        "outputId": "bccb8e32-9a38-4296-c34c-3877a90f9a2e"
      },
      "source": [
        "def TuplasVacias(tupla): \r\n",
        "  try:\r\n",
        "    tp = [t for t in tupla if t]\r\n",
        "    return tp\r\n",
        "  except AttributeError:\r\n",
        "    print(\"Error...\")\r\n",
        "\r\n",
        "def main():\r\n",
        "  try:\r\n",
        "    tupla = [(1,2), (5,), (), (1,)]\r\n",
        "    print(tupla)  \r\n",
        "    print(len(tupla))\r\n",
        "    tp = TuplasVacias(tupla) \r\n",
        "    print(tp) \r\n",
        "    print(len(tp))\r\n",
        "  except AttributeError:\r\n",
        "    print(\"Error...\")\r\n",
        "  finally:\r\n",
        "    print(\"..Fin programa..\")\r\n",
        "main()"
      ],
      "execution_count": null,
      "outputs": [
        {
          "output_type": "stream",
          "text": [
            "[(1, 2), (5,), (), (1,)]\n",
            "4\n",
            "[(1, 2), (5,), (1,)]\n",
            "3\n",
            "..Fin programa..\n"
          ],
          "name": "stdout"
        }
      ]
    },
    {
      "cell_type": "markdown",
      "metadata": {
        "id": "BhzVxYjDrW0I"
      },
      "source": [
        "## **Ejercicio 3**\r\n"
      ]
    },
    {
      "cell_type": "markdown",
      "metadata": {
        "id": "w6EzHWJ8rYBY"
      },
      "source": [
        ">Cree una funcion en Python que dada una tupla de tuplas con numeros, produzca una tupla con el promedio de cada tupla individual. \r\n"
      ]
    },
    {
      "cell_type": "code",
      "metadata": {
        "colab": {
          "base_uri": "https://localhost:8080/"
        },
        "id": "22QF14V05wht",
        "outputId": "c93c39a5-3e12-455f-add9-92bbd5ce26ff"
      },
      "source": [
        "def promedio (nums):\r\n",
        "   try:\r\n",
        "      for index, item in enumerate (nums):\r\n",
        "        nums[index] = sum(item)/len(item)\r\n",
        "      return nums\r\n",
        "   except AttributeError:\r\n",
        "    print(\"Error...\")\r\n",
        "\r\n",
        "def main():\r\n",
        "  try:\r\n",
        "    nums = [(10, 10, 10, 12), (30, 45, 56, 45), (81, 80, 39, 32), (1, 2, 3, 4)]\r\n",
        "    promtupla = promedio (nums)\r\n",
        "    print(promtupla)\r\n",
        "  except AttributeError:\r\n",
        "    print(\"Error...\")\r\n",
        "  finally:\r\n",
        "    print(\"..Fin programa..\")\r\n",
        "    \r\n",
        "main()"
      ],
      "execution_count": null,
      "outputs": [
        {
          "output_type": "stream",
          "text": [
            "[10.5, 44.0, 58.0, 2.5]\n",
            "..Fin programa..\n"
          ],
          "name": "stdout"
        }
      ]
    }
  ]
}