{
 "cells": [
  {
   "cell_type": "markdown",
   "metadata": {},
   "source": [
    "![Universidad galileo](Imagenes_Lab/logo-ug.png)"
   ]
  },
  {
   "cell_type": "markdown",
   "metadata": {},
   "source": [
    "# <div style=\"text-align: center\"> **LABORATORIO 2** </div>"
   ]
  },
  {
   "cell_type": "markdown",
   "metadata": {},
   "source": [
    "## <div style=\"text-align: center\"> Jupyter Notebooks, Markdown y Git </div>"
   ]
  },
  {
   "cell_type": "markdown",
   "metadata": {},
   "source": [
    "#### Alicia Paola Méndez Girón _20000135_"
   ]
  },
  {
   "cell_type": "markdown",
   "metadata": {},
   "source": [
    "---\n",
    "* * *"
   ]
  },
  {
   "cell_type": "markdown",
   "metadata": {},
   "source": [
    "### **1. Introducción**"
   ]
  },
  {
   "cell_type": "markdown",
   "metadata": {},
   "source": [
    "> <div style=\"text-align: justify\"> Para los desarrolladores de código los cambios son constantes en todo el proceso, se debe de atender las solicitudes iniciales, intermedias y finales, no solo del cliente principal sino también de su equipo de trabajo. Estos cambios solicitados, el desarrollador los ejecuta a la brevedad y envía nuevamente al cliente y en esta ocasión el cliente cambia de idea y desea que fuese como antes… pero la versión anterior no fue guardada y se tendría que ver cómo se recupera para que no represente más trabajo, ahora bien, el desarrollador podría crear versiones todo el tiempo y así no eliminar por completo, pero eso significa muchas versiones y no tener control de los cambios, además, si se está trabajando en conjunto con alguien más posiblemente no sepan qué versión está trabajando cada uno, no se sepan los cambios que están realizando y por último cómo le harán para unificar fácilmente todos estos cambios en un solo código… un verdadero problema. A continuación, se presenta la solución para el problema anterior descrito, el uso de un \"Version control system\" o “VCS” que ayuda a dar seguimiento a todos estos cambios y específicamente hablaremos de Git. </div>"
   ]
  },
  {
   "cell_type": "markdown",
   "metadata": {},
   "source": [
    "### **2. Resumen**"
   ]
  },
  {
   "cell_type": "markdown",
   "metadata": {},
   "source": [
    "> #### 2.1. VCS\n",
    "<div style=\"text-align: justify\"> Un “versión control system” ayuda a un equipo de software a gestionar los cambios en el código fuente a lo largo del tiempo. Este realiza un seguimiento de todas las modificaciones en el código en una base de datos. Si se comete un error, los desarrolladores pueden ir atrás en el tiempo y comparar las versiones anteriores del código para ayudar a resolver el error al tiempo que se minimizan las interrupciones para todos los miembros del equipo. </div>"
   ]
  },
  {
   "cell_type": "markdown",
   "metadata": {},
   "source": [
    "*Ejemplos de VCS:*\n",
    "\n",
    "|<div style=\"text-align: center\">VCS</div>  |\n",
    "|:-----|\n",
    "|<div style=\"text-align: center\">Git </div>    |\n",
    "|<div style=\"text-align: center\">CVS</div>     |\n",
    "|<div style=\"text-align: center\">Apache Subversion (SVN)</div>    |\n",
    "|<div style=\"text-align: center\">Mercurial</div>    |\n",
    "|<div style=\"text-align: center\">Monotone</div>     |"
   ]
  },
  {
   "cell_type": "markdown",
   "metadata": {},
   "source": [
    "> #### 2.2. Git\n",
    "<div style=\"text-align: justify\">Git es un sistema de control de versión distribuida creada por Linus Torvalds en el 2005. La base del código entero y su historial se encuentran disponibles en la computadora del desarrollador, lo cual permite un fácil acceso a las bifurcaciones y fusiones. De esta manera, si un servidor deja de funcionar y estos sistemas estaban colaborando a través de él, cualquiera de los repositorios disponibles en los clientes puede ser copiado al servidor con el fin de restaurarlo. Cada clon es realmente una copia completa de todos los datos. </div>"
   ]
  },
  {
   "cell_type": "markdown",
   "metadata": {},
   "source": [
    "![Repositorios](Imagenes_Lab/Lab2_Computer.png)"
   ]
  },
  {
   "cell_type": "markdown",
   "metadata": {},
   "source": [
    "Ahora que ya hablamos sobre Git, nos toca hablar sobre “Hub”. \n",
    "> #### 2.3. Hub\n",
    "<div style=\"text-align: justify\"> Hub (centro de operaciones) es un dispositivo utilizado en el área de la computadora que permite la conexión de computadoras a una red para compartir información.</div>"
   ]
  },
  {
   "cell_type": "markdown",
   "metadata": {},
   "source": [
    "> #### 2.4. GitHub\n",
    "<div style=\"text-align: justify\">GitHub es el nombre de la compañía que ofrece un servicio de hosting de repositorios almacenados en la nube, permite a los usuarios socializar con personas de ideas afines, seguir a las personas y ver qué hacen o con quién se conectan, se podría decir que es la “red social para desarrolladores”.\n",
    "\n",
    "La principal terminología y opciones que nos da GitHub es la siguiente: </div>"
   ]
  },
  {
   "cell_type": "markdown",
   "metadata": {},
   "source": [
    ">* Repository\n",
    "<div style=\"text-align: justify\">Es un directorio donde se almacenan los archivos del proyecto. Puede estar ubicado en el almacenamiento de GitHub o en un repositorio local en la computadora. Se puede almacenar archivos de código, imágenes, audios o todo lo relacionado con el proyecto en el repositorio. </div>"
   ]
  },
  {
   "cell_type": "markdown",
   "metadata": {},
   "source": [
    "> - Branch\n",
    "<div style=\"text-align: justify\">Es una copia de tu repositorio. Se puede utilizar cuando se quiera hacer un desarrollo de forma aislada. Trabajar en una rama no afectará el repositorio central u otras ramas. Estas ramas se pueden combinar con el repositorio central mediante una pull request.</div>"
   ]
  },
  {
   "cell_type": "markdown",
   "metadata": {},
   "source": [
    "> - Pull Request\n",
    "<div style=\"text-align: justify\">Sirve para informar a los demás colaboradores que se ha enviado al repositorio principal el cambio que se hizo en una rama. Los colaboradores del repositorio pueden aceptar o rechazar una pull request. Una vez abierta, se puede discutir y revisar el trabajo con los colaboradores.</div>"
   ]
  },
  {
   "cell_type": "markdown",
   "metadata": {},
   "source": [
    "> - Bifurcar un repositorio\n",
    "<div style=\"text-align: justify\"> Significa crear un nuevo proyecto basado en el repositorio existente. Básicamente es tomar un repositorio existente, se realizan los cambios necesarios, se realizan los cambios necesarios y se almacena una nueva versión como un nuevo repositorio, el repositorio central no se verá afectado. Si el repositorio principal es actualizado, también se puede aplicar esa actualización a la bifurcación actual. </div>"
   ]
  },
  {
   "cell_type": "markdown",
   "metadata": {},
   "source": [
    "<div style=\"text-align: justify\">Otra opción es el “commit” o forma de “guardar” un archivo, puede ser propio o con alguien más, también se tiene un “fork” que es similar en concepto a la bifurcación, pero el “fork” es relativamente permanente.</div>"
   ]
  },
  {
   "cell_type": "markdown",
   "metadata": {},
   "source": [
    "### **3. Utilizando GitHub**"
   ]
  },
  {
   "cell_type": "markdown",
   "metadata": {},
   "source": [
    "1. Crear una cuenta\n",
    "2. Verificar email\n",
    "![Verificando email](Imagenes_Lab/Lab2_GitHub_1.png)"
   ]
  },
  {
   "cell_type": "markdown",
   "metadata": {},
   "source": [
    "3. Crear un nuevo repositorio:\n",
    "  3.1 ![Crear repositorio](Imagenes_Lab/Lab2_GitHub_2.png)\n",
    " 3.2 ![Crear repositorio](Imagenes_Lab/Lab2_GitHub_3.png)\n",
    " 3.3 ![Crear repositorio](Imagenes_Lab/Lab2_GitHub_4.png)"
   ]
  },
  {
   "cell_type": "markdown",
   "metadata": {},
   "source": [
    "4. Cargando JupyterNotebook\n",
    " 4.1 ![Cargando archivo](Imagenes_Lab/Lab2_GitHub_5.png)\n",
    " 4.2 ![Cargando archivo](Imagenes_Lab/Lab2_GitHub_6.png)\n",
    " 4.3 ![Cargando archivo](Imagenes_Lab/Lab2_GitHub_7.png)"
   ]
  },
  {
   "cell_type": "markdown",
   "metadata": {},
   "source": [
    "### **4. Conclusiones**"
   ]
  },
  {
   "cell_type": "markdown",
   "metadata": {},
   "source": [
    "1. <div style=\"text-align: justify\">Los VCS ayudan a registrar los cambios realizados al código y almacena información, por ejemplo, quién realizó los cambios y puede restaurar el código borrado o modificado.</div>\n",
    "2. <div style=\"text-align: justify\">GitHub es la plataforma que ayuda al desarrollador a administrar su proyecto de manera eficiente y a trabajar en colaboración con otros desarrolladores.</div>"
   ]
  },
  {
   "cell_type": "markdown",
   "metadata": {},
   "source": [
    "### **5. Anexo**"
   ]
  },
  {
   "cell_type": "markdown",
   "metadata": {},
   "source": [
    "Para realizar este documento me apoyé en la lección del MIT de Git que se encuentra en este [Link](https://missing.csail.mit.edu/2020/version-control/)"
   ]
  },
  {
   "cell_type": "code",
   "execution_count": null,
   "metadata": {},
   "outputs": [],
   "source": []
  }
 ],
 "metadata": {
  "kernelspec": {
   "display_name": "Python 3",
   "language": "python",
   "name": "python3"
  },
  "language_info": {
   "codemirror_mode": {
    "name": "ipython",
    "version": 3
   },
   "file_extension": ".py",
   "mimetype": "text/x-python",
   "name": "python",
   "nbconvert_exporter": "python",
   "pygments_lexer": "ipython3",
   "version": "3.8.5"
  }
 },
 "nbformat": 4,
 "nbformat_minor": 4
}
