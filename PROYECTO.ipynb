{
  "nbformat": 4,
  "nbformat_minor": 0,
  "metadata": {
    "colab": {
      "name": "PROYECTO.ipynb",
      "provenance": [],
      "collapsed_sections": [],
      "toc_visible": true,
      "include_colab_link": true
    },
    "kernelspec": {
      "name": "python3",
      "display_name": "Python 3"
    },
    "language_info": {
      "name": "python"
    }
  },
  "cells": [
    {
      "cell_type": "markdown",
      "metadata": {
        "id": "view-in-github",
        "colab_type": "text"
      },
      "source": [
        "<a href=\"https://colab.research.google.com/github/PaolaMG9/Ciencia-de-Datos-en-Python/blob/main/PROYECTO.ipynb\" target=\"_parent\"><img src=\"https://colab.research.google.com/assets/colab-badge.svg\" alt=\"Open In Colab\"/></a>"
      ]
    },
    {
      "cell_type": "markdown",
      "metadata": {
        "id": "iuzeddkCHXg5"
      },
      "source": [
        "# <div style=\"text-align: center\"> **Ciencia de Datos en Python** \n",
        "## ***Proyecto Final***\n",
        "#### Alicia Paola Méndez Girón _20000135_\n",
        "#### Dulce Rocío Sosa Cerna _20000140_\n",
        "#### José Alejandro Llamas _20002501_"
      ]
    },
    {
      "cell_type": "code",
      "metadata": {
        "id": "mT7rcECp6pQn"
      },
      "source": [
        "import numpy as np\n",
        "import pandas as pd\n",
        "import matplotlib.pyplot as plt\n",
        "import sklearn\n",
        "import seaborn as sns"
      ],
      "execution_count": 1,
      "outputs": []
    },
    {
      "cell_type": "code",
      "metadata": {
        "colab": {
          "base_uri": "https://localhost:8080/"
        },
        "id": "GYRjOf055HOj",
        "outputId": "f0fd887f-5a3b-4bde-d46a-7a6fe98e4b4d"
      },
      "source": [
        "from google.colab import drive\n",
        "drive.mount('/content/drive')"
      ],
      "execution_count": 2,
      "outputs": [
        {
          "output_type": "stream",
          "text": [
            "Mounted at /content/drive\n"
          ],
          "name": "stdout"
        }
      ]
    },
    {
      "cell_type": "code",
      "metadata": {
        "colab": {
          "base_uri": "https://localhost:8080/"
        },
        "id": "bIUvvlJbNcgX",
        "outputId": "87a7387d-ed04-4efd-adce-66efa19a0e15"
      },
      "source": [
        "drive.mount('/content/drive')"
      ],
      "execution_count": 12,
      "outputs": [
        {
          "output_type": "stream",
          "text": [
            "Drive already mounted at /content/drive; to attempt to forcibly remount, call drive.mount(\"/content/drive\", force_remount=True).\n"
          ],
          "name": "stdout"
        }
      ]
    },
    {
      "cell_type": "code",
      "metadata": {
        "id": "m3ZucPhF6UNT"
      },
      "source": [
        "url = \"/content/drive/My Drive/Proyecto/proyecto_data/proyecto_training_data.npy\"\n"
      ],
      "execution_count": 13,
      "outputs": []
    },
    {
      "cell_type": "code",
      "metadata": {
        "colab": {
          "base_uri": "https://localhost:8080/"
        },
        "id": "35ypsZDT6fLD",
        "outputId": "13212f17-6ce9-4320-8fda-fcc587148a51"
      },
      "source": [
        "data = np.load(url)\n",
        "data"
      ],
      "execution_count": 14,
      "outputs": [
        {
          "output_type": "execute_result",
          "data": {
            "text/plain": [
              "array([[2.08500e+05, 7.00000e+00, 8.56000e+02, 8.00000e+00, 2.00300e+03,\n",
              "        6.50000e+01],\n",
              "       [1.81500e+05, 6.00000e+00, 1.26200e+03, 6.00000e+00, 1.97600e+03,\n",
              "        8.00000e+01],\n",
              "       [2.23500e+05, 7.00000e+00, 9.20000e+02, 6.00000e+00, 2.00100e+03,\n",
              "        6.80000e+01],\n",
              "       ...,\n",
              "       [2.66500e+05, 7.00000e+00, 1.18800e+03, 9.00000e+00, 1.94100e+03,\n",
              "        6.60000e+01],\n",
              "       [1.42125e+05, 5.00000e+00, 1.07800e+03, 5.00000e+00, 1.95000e+03,\n",
              "        6.80000e+01],\n",
              "       [1.47500e+05, 5.00000e+00, 1.25600e+03, 6.00000e+00, 1.96500e+03,\n",
              "        7.50000e+01]])"
            ]
          },
          "metadata": {
            "tags": []
          },
          "execution_count": 14
        }
      ]
    },
    {
      "cell_type": "code",
      "metadata": {
        "colab": {
          "base_uri": "https://localhost:8080/",
          "height": 424
        },
        "id": "6D50Qmp_OaLf",
        "outputId": "2d6fac48-2a57-4225-bdb1-d9b65960e3c0"
      },
      "source": [
        "dataset = pd.DataFrame(data, columns = ['SalePrice','OverallQual','1stFlrSF','TotRmsAbvGrd','YearBuilt','LotFrontage'])\n",
        "dataset"
      ],
      "execution_count": 15,
      "outputs": [
        {
          "output_type": "execute_result",
          "data": {
            "text/html": [
              "<div>\n",
              "<style scoped>\n",
              "    .dataframe tbody tr th:only-of-type {\n",
              "        vertical-align: middle;\n",
              "    }\n",
              "\n",
              "    .dataframe tbody tr th {\n",
              "        vertical-align: top;\n",
              "    }\n",
              "\n",
              "    .dataframe thead th {\n",
              "        text-align: right;\n",
              "    }\n",
              "</style>\n",
              "<table border=\"1\" class=\"dataframe\">\n",
              "  <thead>\n",
              "    <tr style=\"text-align: right;\">\n",
              "      <th></th>\n",
              "      <th>SalePrice</th>\n",
              "      <th>OverallQual</th>\n",
              "      <th>1stFlrSF</th>\n",
              "      <th>TotRmsAbvGrd</th>\n",
              "      <th>YearBuilt</th>\n",
              "      <th>LotFrontage</th>\n",
              "    </tr>\n",
              "  </thead>\n",
              "  <tbody>\n",
              "    <tr>\n",
              "      <th>0</th>\n",
              "      <td>208500.0</td>\n",
              "      <td>7.0</td>\n",
              "      <td>856.0</td>\n",
              "      <td>8.0</td>\n",
              "      <td>2003.0</td>\n",
              "      <td>65.0</td>\n",
              "    </tr>\n",
              "    <tr>\n",
              "      <th>1</th>\n",
              "      <td>181500.0</td>\n",
              "      <td>6.0</td>\n",
              "      <td>1262.0</td>\n",
              "      <td>6.0</td>\n",
              "      <td>1976.0</td>\n",
              "      <td>80.0</td>\n",
              "    </tr>\n",
              "    <tr>\n",
              "      <th>2</th>\n",
              "      <td>223500.0</td>\n",
              "      <td>7.0</td>\n",
              "      <td>920.0</td>\n",
              "      <td>6.0</td>\n",
              "      <td>2001.0</td>\n",
              "      <td>68.0</td>\n",
              "    </tr>\n",
              "    <tr>\n",
              "      <th>3</th>\n",
              "      <td>140000.0</td>\n",
              "      <td>7.0</td>\n",
              "      <td>961.0</td>\n",
              "      <td>7.0</td>\n",
              "      <td>1915.0</td>\n",
              "      <td>60.0</td>\n",
              "    </tr>\n",
              "    <tr>\n",
              "      <th>4</th>\n",
              "      <td>250000.0</td>\n",
              "      <td>8.0</td>\n",
              "      <td>1145.0</td>\n",
              "      <td>9.0</td>\n",
              "      <td>2000.0</td>\n",
              "      <td>84.0</td>\n",
              "    </tr>\n",
              "    <tr>\n",
              "      <th>...</th>\n",
              "      <td>...</td>\n",
              "      <td>...</td>\n",
              "      <td>...</td>\n",
              "      <td>...</td>\n",
              "      <td>...</td>\n",
              "      <td>...</td>\n",
              "    </tr>\n",
              "    <tr>\n",
              "      <th>1455</th>\n",
              "      <td>175000.0</td>\n",
              "      <td>6.0</td>\n",
              "      <td>953.0</td>\n",
              "      <td>7.0</td>\n",
              "      <td>1999.0</td>\n",
              "      <td>62.0</td>\n",
              "    </tr>\n",
              "    <tr>\n",
              "      <th>1456</th>\n",
              "      <td>210000.0</td>\n",
              "      <td>6.0</td>\n",
              "      <td>2073.0</td>\n",
              "      <td>7.0</td>\n",
              "      <td>1978.0</td>\n",
              "      <td>85.0</td>\n",
              "    </tr>\n",
              "    <tr>\n",
              "      <th>1457</th>\n",
              "      <td>266500.0</td>\n",
              "      <td>7.0</td>\n",
              "      <td>1188.0</td>\n",
              "      <td>9.0</td>\n",
              "      <td>1941.0</td>\n",
              "      <td>66.0</td>\n",
              "    </tr>\n",
              "    <tr>\n",
              "      <th>1458</th>\n",
              "      <td>142125.0</td>\n",
              "      <td>5.0</td>\n",
              "      <td>1078.0</td>\n",
              "      <td>5.0</td>\n",
              "      <td>1950.0</td>\n",
              "      <td>68.0</td>\n",
              "    </tr>\n",
              "    <tr>\n",
              "      <th>1459</th>\n",
              "      <td>147500.0</td>\n",
              "      <td>5.0</td>\n",
              "      <td>1256.0</td>\n",
              "      <td>6.0</td>\n",
              "      <td>1965.0</td>\n",
              "      <td>75.0</td>\n",
              "    </tr>\n",
              "  </tbody>\n",
              "</table>\n",
              "<p>1460 rows × 6 columns</p>\n",
              "</div>"
            ],
            "text/plain": [
              "      SalePrice  OverallQual  1stFlrSF  TotRmsAbvGrd  YearBuilt  LotFrontage\n",
              "0      208500.0          7.0     856.0           8.0     2003.0         65.0\n",
              "1      181500.0          6.0    1262.0           6.0     1976.0         80.0\n",
              "2      223500.0          7.0     920.0           6.0     2001.0         68.0\n",
              "3      140000.0          7.0     961.0           7.0     1915.0         60.0\n",
              "4      250000.0          8.0    1145.0           9.0     2000.0         84.0\n",
              "...         ...          ...       ...           ...        ...          ...\n",
              "1455   175000.0          6.0     953.0           7.0     1999.0         62.0\n",
              "1456   210000.0          6.0    2073.0           7.0     1978.0         85.0\n",
              "1457   266500.0          7.0    1188.0           9.0     1941.0         66.0\n",
              "1458   142125.0          5.0    1078.0           5.0     1950.0         68.0\n",
              "1459   147500.0          5.0    1256.0           6.0     1965.0         75.0\n",
              "\n",
              "[1460 rows x 6 columns]"
            ]
          },
          "metadata": {
            "tags": []
          },
          "execution_count": 15
        }
      ]
    },
    {
      "cell_type": "markdown",
      "metadata": {
        "id": "XqxR4U-FOE3S"
      },
      "source": [
        "## **Análisis exploratorio:**"
      ]
    },
    {
      "cell_type": "code",
      "metadata": {
        "colab": {
          "base_uri": "https://localhost:8080/"
        },
        "id": "hABPvHNmRADh",
        "outputId": "ef4c2584-87b9-404d-f741-ce79225c55f9"
      },
      "source": [
        "dataset.info()"
      ],
      "execution_count": 16,
      "outputs": [
        {
          "output_type": "stream",
          "text": [
            "<class 'pandas.core.frame.DataFrame'>\n",
            "RangeIndex: 1460 entries, 0 to 1459\n",
            "Data columns (total 6 columns):\n",
            " #   Column        Non-Null Count  Dtype  \n",
            "---  ------        --------------  -----  \n",
            " 0   SalePrice     1460 non-null   float64\n",
            " 1   OverallQual   1460 non-null   float64\n",
            " 2   1stFlrSF      1460 non-null   float64\n",
            " 3   TotRmsAbvGrd  1460 non-null   float64\n",
            " 4   YearBuilt     1460 non-null   float64\n",
            " 5   LotFrontage   1201 non-null   float64\n",
            "dtypes: float64(6)\n",
            "memory usage: 68.6 KB\n"
          ],
          "name": "stdout"
        }
      ]
    },
    {
      "cell_type": "markdown",
      "metadata": {
        "id": "dEngFe_zTte_"
      },
      "source": [
        "### *Estadística descriptiva*"
      ]
    },
    {
      "cell_type": "code",
      "metadata": {
        "colab": {
          "base_uri": "https://localhost:8080/",
          "height": 300
        },
        "id": "yWmyZtURVRfk",
        "outputId": "153bc729-4298-423f-a51e-f66c733a9b66"
      },
      "source": [
        "resumen = dataset.describe().round()\n",
        "resumen"
      ],
      "execution_count": 17,
      "outputs": [
        {
          "output_type": "execute_result",
          "data": {
            "text/html": [
              "<div>\n",
              "<style scoped>\n",
              "    .dataframe tbody tr th:only-of-type {\n",
              "        vertical-align: middle;\n",
              "    }\n",
              "\n",
              "    .dataframe tbody tr th {\n",
              "        vertical-align: top;\n",
              "    }\n",
              "\n",
              "    .dataframe thead th {\n",
              "        text-align: right;\n",
              "    }\n",
              "</style>\n",
              "<table border=\"1\" class=\"dataframe\">\n",
              "  <thead>\n",
              "    <tr style=\"text-align: right;\">\n",
              "      <th></th>\n",
              "      <th>SalePrice</th>\n",
              "      <th>OverallQual</th>\n",
              "      <th>1stFlrSF</th>\n",
              "      <th>TotRmsAbvGrd</th>\n",
              "      <th>YearBuilt</th>\n",
              "      <th>LotFrontage</th>\n",
              "    </tr>\n",
              "  </thead>\n",
              "  <tbody>\n",
              "    <tr>\n",
              "      <th>count</th>\n",
              "      <td>1460.0</td>\n",
              "      <td>1460.0</td>\n",
              "      <td>1460.0</td>\n",
              "      <td>1460.0</td>\n",
              "      <td>1460.0</td>\n",
              "      <td>1201.0</td>\n",
              "    </tr>\n",
              "    <tr>\n",
              "      <th>mean</th>\n",
              "      <td>180921.0</td>\n",
              "      <td>6.0</td>\n",
              "      <td>1163.0</td>\n",
              "      <td>7.0</td>\n",
              "      <td>1971.0</td>\n",
              "      <td>70.0</td>\n",
              "    </tr>\n",
              "    <tr>\n",
              "      <th>std</th>\n",
              "      <td>79443.0</td>\n",
              "      <td>1.0</td>\n",
              "      <td>387.0</td>\n",
              "      <td>2.0</td>\n",
              "      <td>30.0</td>\n",
              "      <td>24.0</td>\n",
              "    </tr>\n",
              "    <tr>\n",
              "      <th>min</th>\n",
              "      <td>34900.0</td>\n",
              "      <td>1.0</td>\n",
              "      <td>334.0</td>\n",
              "      <td>2.0</td>\n",
              "      <td>1872.0</td>\n",
              "      <td>21.0</td>\n",
              "    </tr>\n",
              "    <tr>\n",
              "      <th>25%</th>\n",
              "      <td>129975.0</td>\n",
              "      <td>5.0</td>\n",
              "      <td>882.0</td>\n",
              "      <td>5.0</td>\n",
              "      <td>1954.0</td>\n",
              "      <td>59.0</td>\n",
              "    </tr>\n",
              "    <tr>\n",
              "      <th>50%</th>\n",
              "      <td>163000.0</td>\n",
              "      <td>6.0</td>\n",
              "      <td>1087.0</td>\n",
              "      <td>6.0</td>\n",
              "      <td>1973.0</td>\n",
              "      <td>69.0</td>\n",
              "    </tr>\n",
              "    <tr>\n",
              "      <th>75%</th>\n",
              "      <td>214000.0</td>\n",
              "      <td>7.0</td>\n",
              "      <td>1391.0</td>\n",
              "      <td>7.0</td>\n",
              "      <td>2000.0</td>\n",
              "      <td>80.0</td>\n",
              "    </tr>\n",
              "    <tr>\n",
              "      <th>max</th>\n",
              "      <td>755000.0</td>\n",
              "      <td>10.0</td>\n",
              "      <td>4692.0</td>\n",
              "      <td>14.0</td>\n",
              "      <td>2010.0</td>\n",
              "      <td>313.0</td>\n",
              "    </tr>\n",
              "  </tbody>\n",
              "</table>\n",
              "</div>"
            ],
            "text/plain": [
              "       SalePrice  OverallQual  1stFlrSF  TotRmsAbvGrd  YearBuilt  LotFrontage\n",
              "count     1460.0       1460.0    1460.0        1460.0     1460.0       1201.0\n",
              "mean    180921.0          6.0    1163.0           7.0     1971.0         70.0\n",
              "std      79443.0          1.0     387.0           2.0       30.0         24.0\n",
              "min      34900.0          1.0     334.0           2.0     1872.0         21.0\n",
              "25%     129975.0          5.0     882.0           5.0     1954.0         59.0\n",
              "50%     163000.0          6.0    1087.0           6.0     1973.0         69.0\n",
              "75%     214000.0          7.0    1391.0           7.0     2000.0         80.0\n",
              "max     755000.0         10.0    4692.0          14.0     2010.0        313.0"
            ]
          },
          "metadata": {
            "tags": []
          },
          "execution_count": 17
        }
      ]
    },
    {
      "cell_type": "markdown",
      "metadata": {
        "id": "5C8M9-4MX8LC"
      },
      "source": [
        "### *Histograma*"
      ]
    },
    {
      "cell_type": "code",
      "metadata": {
        "colab": {
          "base_uri": "https://localhost:8080/",
          "height": 369
        },
        "id": "ro9JOb00Yn1o",
        "outputId": "4cec70f5-1d08-41d1-ac1d-de5828fd315c"
      },
      "source": [
        "sns.distplot(dataset['OverallQual']).set_title('Histograma OverallQual')"
      ],
      "execution_count": 18,
      "outputs": [
        {
          "output_type": "stream",
          "text": [
            "/usr/local/lib/python3.7/dist-packages/seaborn/distributions.py:2557: FutureWarning: `distplot` is a deprecated function and will be removed in a future version. Please adapt your code to use either `displot` (a figure-level function with similar flexibility) or `histplot` (an axes-level function for histograms).\n",
            "  warnings.warn(msg, FutureWarning)\n"
          ],
          "name": "stderr"
        },
        {
          "output_type": "execute_result",
          "data": {
            "text/plain": [
              "Text(0.5, 1.0, 'Histograma OverallQual')"
            ]
          },
          "metadata": {
            "tags": []
          },
          "execution_count": 18
        },
        {
          "output_type": "display_data",
          "data": {
            "image/png": "[encoded data removed]",
            "text/plain": [
              "<Figure size 432x288 with 1 Axes>"
            ]
          },
          "metadata": {
            "tags": [],
            "needs_background": "light"
          }
        }
      ]
    },
    {
      "cell_type": "code",
      "metadata": {
        "colab": {
          "base_uri": "https://localhost:8080/",
          "height": 369
        },
        "id": "Gp360ndZX7nK",
        "outputId": "c0ada435-2e5d-4a71-ad2e-e4c1945649d6"
      },
      "source": [
        "sns.distplot(dataset['1stFlrSF']).set_title('Histograma 1stFlrSF')"
      ],
      "execution_count": 19,
      "outputs": [
        {
          "output_type": "stream",
          "text": [
            "/usr/local/lib/python3.7/dist-packages/seaborn/distributions.py:2557: FutureWarning: `distplot` is a deprecated function and will be removed in a future version. Please adapt your code to use either `displot` (a figure-level function with similar flexibility) or `histplot` (an axes-level function for histograms).\n",
            "  warnings.warn(msg, FutureWarning)\n"
          ],
          "name": "stderr"
        },
        {
          "output_type": "execute_result",
          "data": {
            "text/plain": [
              "Text(0.5, 1.0, 'Histograma 1stFlrSF')"
            ]
          },
          "metadata": {
            "tags": []
          },
          "execution_count": 19
        },
        {
          "output_type": "display_data",
          "data": {
            "image/png": "[encoded data removed]",
            "text/plain": [
              "<Figure size 432x288 with 1 Axes>"
            ]
          },
          "metadata": {
            "tags": [],
            "needs_background": "light"
          }
        }
      ]
    },
    {
      "cell_type": "code",
      "metadata": {
        "colab": {
          "base_uri": "https://localhost:8080/",
          "height": 369
        },
        "id": "_XmHc31mZKv5",
        "outputId": "f586367b-48c0-4c71-afbc-28fcdd2f1451"
      },
      "source": [
        "sns.distplot(dataset['TotRmsAbvGrd']).set_title('Histograma TotRmsAbvGrd')"
      ],
      "execution_count": 20,
      "outputs": [
        {
          "output_type": "stream",
          "text": [
            "/usr/local/lib/python3.7/dist-packages/seaborn/distributions.py:2557: FutureWarning: `distplot` is a deprecated function and will be removed in a future version. Please adapt your code to use either `displot` (a figure-level function with similar flexibility) or `histplot` (an axes-level function for histograms).\n",
            "  warnings.warn(msg, FutureWarning)\n"
          ],
          "name": "stderr"
        },
        {
          "output_type": "execute_result",
          "data": {
            "text/plain": [
              "Text(0.5, 1.0, 'Histograma TotRmsAbvGrd')"
            ]
          },
          "metadata": {
            "tags": []
          },
          "execution_count": 20
        },
        {
          "output_type": "display_data",
          "data": {
            "image/png": "[encoded data removed]",
            "text/plain": [
              "<Figure size 432x288 with 1 Axes>"
            ]
          },
          "metadata": {
            "tags": [],
            "needs_background": "light"
          }
        }
      ]
    },
    {
      "cell_type": "code",
      "metadata": {
        "colab": {
          "base_uri": "https://localhost:8080/",
          "height": 369
        },
        "id": "8y15MrhZZ5nr",
        "outputId": "cafaca31-da58-4182-dd04-d10a5d45cf2d"
      },
      "source": [
        "sns.distplot(dataset['YearBuilt']).set_title('Histograma YearBuilt')"
      ],
      "execution_count": 21,
      "outputs": [
        {
          "output_type": "stream",
          "text": [
            "/usr/local/lib/python3.7/dist-packages/seaborn/distributions.py:2557: FutureWarning: `distplot` is a deprecated function and will be removed in a future version. Please adapt your code to use either `displot` (a figure-level function with similar flexibility) or `histplot` (an axes-level function for histograms).\n",
            "  warnings.warn(msg, FutureWarning)\n"
          ],
          "name": "stderr"
        },
        {
          "output_type": "execute_result",
          "data": {
            "text/plain": [
              "Text(0.5, 1.0, 'Histograma YearBuilt')"
            ]
          },
          "metadata": {
            "tags": []
          },
          "execution_count": 21
        },
        {
          "output_type": "display_data",
          "data": {
            "image/png": "[encoded data removed]",
            "text/plain": [
              "<Figure size 432x288 with 1 Axes>"
            ]
          },
          "metadata": {
            "tags": [],
            "needs_background": "light"
          }
        }
      ]
    },
    {
      "cell_type": "code",
      "metadata": {
        "colab": {
          "base_uri": "https://localhost:8080/",
          "height": 369
        },
        "id": "BdRQ2n_mZ_uH",
        "outputId": "e92a3e63-7e5e-47a4-cb1b-9b62131612fd"
      },
      "source": [
        "sns.distplot(dataset['LotFrontage']).set_title('Histograma LotFrontage')"
      ],
      "execution_count": 22,
      "outputs": [
        {
          "output_type": "stream",
          "text": [
            "/usr/local/lib/python3.7/dist-packages/seaborn/distributions.py:2557: FutureWarning: `distplot` is a deprecated function and will be removed in a future version. Please adapt your code to use either `displot` (a figure-level function with similar flexibility) or `histplot` (an axes-level function for histograms).\n",
            "  warnings.warn(msg, FutureWarning)\n"
          ],
          "name": "stderr"
        },
        {
          "output_type": "execute_result",
          "data": {
            "text/plain": [
              "Text(0.5, 1.0, 'Histograma LotFrontage')"
            ]
          },
          "metadata": {
            "tags": []
          },
          "execution_count": 22
        },
        {
          "output_type": "display_data",
          "data": {
            "image/png": "[encoded data removed]",
            "text/plain": [
              "<Figure size 432x288 with 1 Axes>"
            ]
          },
          "metadata": {
            "tags": [],
            "needs_background": "light"
          }
        }
      ]
    },
    {
      "cell_type": "markdown",
      "metadata": {
        "id": "jyPhr6tpSo6L"
      },
      "source": [
        "### *Análisis de correlación*"
      ]
    },
    {
      "cell_type": "code",
      "metadata": {
        "id": "NnsvMQxNa4Tr"
      },
      "source": [
        "from sklearn.metrics import r2_score"
      ],
      "execution_count": 23,
      "outputs": []
    },
    {
      "cell_type": "markdown",
      "metadata": {
        "id": "RzC0_OYLa6Pa"
      },
      "source": [
        "> ##### SalePrice vs OverallQual"
      ]
    },
    {
      "cell_type": "code",
      "metadata": {
        "colab": {
          "base_uri": "https://localhost:8080/",
          "height": 281
        },
        "id": "rYiY0ow_OTCZ",
        "outputId": "a6f9a97c-10a3-41ae-b47a-b14f584a4fe3"
      },
      "source": [
        "x = dataset['OverallQual']\n",
        "y = dataset['SalePrice']\n",
        "plt.scatter(x,y)\n",
        "plt.title(\"SalePrice vs OverallQual\")\n",
        "\n",
        "z = np.polyfit(x, y, 1)\n",
        "p = np.poly1d(z)\n",
        "plt.plot(x,p(x),\"r--\", lw=1)\n",
        "text = f\"$y={z[0]:0.3f}\\;x{z[1]:+0.3f}$\\n$R^2 = {r2_score(y,p(x)):0.3f}$\"\n",
        "plt.gca().text(0.05, 0.95, text,transform=plt.gca().transAxes,\n",
        "     fontsize=14, verticalalignment='top')\n",
        "plt.show()"
      ],
      "execution_count": 24,
      "outputs": [
        {
          "output_type": "display_data",
          "data": {
            "image/png": "[encoded data removed]",
            "text/plain": [
              "<Figure size 432x288 with 1 Axes>"
            ]
          },
          "metadata": {
            "tags": [],
            "needs_background": "light"
          }
        }
      ]
    },
    {
      "cell_type": "markdown",
      "metadata": {
        "id": "2xHYX8cybQX8"
      },
      "source": [
        "> ##### SalePrice vs 1stFlrSF"
      ]
    },
    {
      "cell_type": "code",
      "metadata": {
        "colab": {
          "base_uri": "https://localhost:8080/",
          "height": 281
        },
        "id": "Yqp2VYAvbUpk",
        "outputId": "b507ebd2-ee73-426d-f5cf-7c693f39f9a1"
      },
      "source": [
        "x = dataset['1stFlrSF']\n",
        "y = dataset['SalePrice']\n",
        "plt.scatter(x,y)\n",
        "plt.title(\"SalePrice vs 1stFlrSF\")\n",
        "\n",
        "z = np.polyfit(x, y, 1)\n",
        "p = np.poly1d(z)\n",
        "plt.plot(x,p(x),\"r--\", lw=1)\n",
        "text = f\"$y={z[0]:0.3f}\\;x{z[1]:+0.3f}$\\n$R^2 = {r2_score(y,p(x)):0.3f}$\"\n",
        "plt.gca().text(0.05, 0.95, text,transform=plt.gca().transAxes,\n",
        "     fontsize=14, verticalalignment='top')\n",
        "plt.show()"
      ],
      "execution_count": 25,
      "outputs": [
        {
          "output_type": "display_data",
          "data": {
            "image/png": "[encoded data removed]",
            "text/plain": [
              "<Figure size 432x288 with 1 Axes>"
            ]
          },
          "metadata": {
            "tags": [],
            "needs_background": "light"
          }
        }
      ]
    },
    {
      "cell_type": "markdown",
      "metadata": {
        "id": "3hilzSSgbrbM"
      },
      "source": [
        "> ##### SalePrice vs TotRmsAbvGrd"
      ]
    },
    {
      "cell_type": "code",
      "metadata": {
        "colab": {
          "base_uri": "https://localhost:8080/",
          "height": 281
        },
        "id": "0JpmLj0NbuZE",
        "outputId": "99f414e3-8e78-4146-9f31-d1acd97b8db3"
      },
      "source": [
        "x = dataset['TotRmsAbvGrd']\n",
        "y = dataset['SalePrice']\n",
        "plt.scatter(x,y)\n",
        "plt.title(\"SalePrice vs TotRmsAbvGrd\")\n",
        "\n",
        "z = np.polyfit(x, y, 1)\n",
        "p = np.poly1d(z)\n",
        "plt.plot(x,p(x),\"r--\", lw=1)\n",
        "text = f\"$y={z[0]:0.3f}\\;x{z[1]:+0.3f}$\\n$R^2 = {r2_score(y,p(x)):0.3f}$\"\n",
        "plt.gca().text(0.05, 0.95, text,transform=plt.gca().transAxes,\n",
        "     fontsize=14, verticalalignment='top')\n",
        "plt.show()"
      ],
      "execution_count": 26,
      "outputs": [
        {
          "output_type": "display_data",
          "data": {
            "image/png": "[encoded data removed]",
            "text/plain": [
              "<Figure size 432x288 with 1 Axes>"
            ]
          },
          "metadata": {
            "tags": [],
            "needs_background": "light"
          }
        }
      ]
    },
    {
      "cell_type": "markdown",
      "metadata": {
        "id": "e7t9l1G4b18r"
      },
      "source": [
        "> ##### SalePrice vs YearBuilt"
      ]
    },
    {
      "cell_type": "code",
      "metadata": {
        "colab": {
          "base_uri": "https://localhost:8080/",
          "height": 281
        },
        "id": "7kuez6Fqb34b",
        "outputId": "10cde9ff-484b-4e8e-bc19-17cc9db48fd8"
      },
      "source": [
        "x = dataset['YearBuilt']\n",
        "y = dataset['SalePrice']\n",
        "plt.scatter(x,y)\n",
        "plt.title(\"SalePrice vs YearBuilt\")\n",
        "\n",
        "z = np.polyfit(x, y, 1)\n",
        "p = np.poly1d(z)\n",
        "plt.plot(x,p(x),\"r--\", lw=1)\n",
        "text = f\"$y={z[0]:0.3f}\\;x{z[1]:+0.3f}$\\n$R^2 = {r2_score(y,p(x)):0.3f}$\"\n",
        "plt.gca().text(0.05, 0.95, text,transform=plt.gca().transAxes,\n",
        "     fontsize=14, verticalalignment='top')\n",
        "plt.show()"
      ],
      "execution_count": 27,
      "outputs": [
        {
          "output_type": "display_data",
          "data": {
            "image/png": "[encoded data removed]",
            "text/plain": [
              "<Figure size 432x288 with 1 Axes>"
            ]
          },
          "metadata": {
            "tags": [],
            "needs_background": "light"
          }
        }
      ]
    },
    {
      "cell_type": "markdown",
      "metadata": {
        "id": "Xdj_Nm-rb9tU"
      },
      "source": [
        "> ##### SalePrice vs LotFrontage"
      ]
    },
    {
      "cell_type": "code",
      "metadata": {
        "colab": {
          "base_uri": "https://localhost:8080/",
          "height": 281
        },
        "id": "d_TSmExjb_Y0",
        "outputId": "6fe8de57-8288-454e-c834-79082dc5b47e"
      },
      "source": [
        "dataset1 = dataset.dropna()\n",
        "x = dataset1['LotFrontage']\n",
        "y = dataset1['SalePrice']\n",
        "plt.scatter(x,y)\n",
        "plt.title(\"SalePrice vs LotFrontage\")\n",
        "\n",
        "z = np.polyfit(x, y, 1)\n",
        "p = np.poly1d(z)\n",
        "plt.plot(x,p(x),\"r--\", lw=1)\n",
        "text = f\"$y={z[0]:0.3f}\\;x{z[1]:+0.3f}$\\n$R^2 = {r2_score(y,p(x)):0.3f}$\"\n",
        "plt.gca().text(0.05, 0.95, text,transform=plt.gca().transAxes,\n",
        "     fontsize=14, verticalalignment='top')\n",
        "plt.show()"
      ],
      "execution_count": 28,
      "outputs": [
        {
          "output_type": "display_data",
          "data": {
            "image/png": "[encoded data removed]",
            "text/plain": [
              "<Figure size 432x288 with 1 Axes>"
            ]
          },
          "metadata": {
            "tags": [],
            "needs_background": "light"
          }
        }
      ]
    },
    {
      "cell_type": "markdown",
      "metadata": {
        "id": "kDsFFfJucxsH"
      },
      "source": [
        "> Con base al R^2 se escogen las variables OverallQual y 1stFlrSF, con 0.6257 y 0.3671 respectivamente."
      ]
    },
    {
      "cell_type": "markdown",
      "metadata": {
        "id": "xgjRJ--adXO2"
      },
      "source": [
        "### *Entranamiento de modelo*"
      ]
    },
    {
      "cell_type": "markdown",
      "metadata": {
        "id": "5cY_R-GifDmr"
      },
      "source": [
        "> ### Variables: SalePrice y OverallQual \n",
        "Entrenamiento(80 %) y validaci\u0013ón y pruebas(20 %)."
      ]
    },
    {
      "cell_type": "code",
      "metadata": {
        "id": "Z6VAJEVMhC0S"
      },
      "source": [
        "from sklearn.model_selection import train_test_split"
      ],
      "execution_count": 29,
      "outputs": []
    },
    {
      "cell_type": "code",
      "metadata": {
        "id": "p8yvlJBhe_e0"
      },
      "source": [
        "X = dataset['OverallQual'].values\n",
        "Y = dataset['SalePrice'].values\n",
        "\n",
        "dataTrain, dataTest, dataTrain_Sales, dataTest_Sales = train_test_split(X, Y, test_size = 0.2, shuffle = True, random_state = 123)"
      ],
      "execution_count": 68,
      "outputs": []
    },
    {
      "cell_type": "code",
      "metadata": {
        "colab": {
          "base_uri": "https://localhost:8080/"
        },
        "id": "KtlHSfFz79re",
        "outputId": "aca7ae4a-fc43-4727-c057-411aa07b814a"
      },
      "source": [
        "try:\n",
        "  imprimir_error = int(input('Ingrese cada cuántas iteraciones desea ver el error: '))\n",
        "  alfa = float(input('Ingrese alfa: '))\n",
        "  epoch = int(input('Ingrese cantidad de iteraciones: '))\n",
        "  print('-----INICIANDO-----')\n",
        "  print('Imprimir error cada: ', imprimir_error, 'iteraciones')\n",
        "  X = dataTrain\n",
        "  Y = dataTrain_Sales\n",
        "  errorArray = np.array([])\n",
        "  b0Array = np.array([])\n",
        "  b1Array = np.array([])\n",
        "  modelo = []\n",
        "\n",
        "  inicio=0\n",
        "  imprimir_error2 = 0\n",
        "\n",
        "  b0 = 0\n",
        "  b1 = 0\n",
        "  n = len(X)\n",
        "\n",
        "  for i in range(epoch):\n",
        "    y_estim = b0 + b1*X\n",
        "    gradB1 = 1/n*np.sum((y_estim - Y)*X)\n",
        "    gradB0 = 1/n*np.sum((y_estim - Y))\n",
        "\n",
        "    error = 1/2*n*np.sum(np.power(y_estim - Y,2))\n",
        "    errorArray = np.append(errorArray, error)\n",
        "\n",
        "    b0 = b0 - alfa*gradB0\n",
        "    b1= b1 - alfa*gradB1\n",
        "\n",
        "    b0Array = np.append(b0Array, b0)\n",
        "    b1Array = np.append(b1Array, b1)\n",
        "\n",
        "    #imprimir_error_cada = epoch / imprimir_error\n",
        "    #itera = m*imprimir_error_cada1\n",
        "\n",
        "    modelo.append({'Llave':i, 'B0': b0, 'B1':b1, 'Error':error})\n",
        "    \n",
        "    if inicio == imprimir_error2:\n",
        "      \n",
        "      print('Iteración ' + str(i) + ' Error es: ' + str(errorArray[i]))\n",
        "      imprimir_error2 = imprimir_error2 + imprimir_error\n",
        "    inicio = inicio + 1\n",
        "\n",
        "  print(\"---.---.---.---.---.---.---.---.---.---.---.---.---.---.---.---.---.---.---.---.---.---.---.---.---.---.---.---.---.---.\")\n",
        "  print(\"IMPRIMIENDO MODELO...\")\n",
        "  print(modelo)\n",
        "\n",
        "except(ValueError):\n",
        "        print(\"Número inválido.\")\n",
        "        print(\"Saliendo...\")\n",
        "finally:\n",
        "        print(\"--Fin del programa--\")\n",
        "#print('B0: {}, B1: {}'.format (b0, b1))\n",
        "#print('B0: {}, B1: {}, Error: {}'.format (b0Array, b1Array, errorArray))\n",
        "#print('Iteracion: {}, error: {}'.format (epoch, errorArray))"
      ],
      "execution_count": 70,
      "outputs": [
        {
          "output_type": "stream",
          "text": [
            "Ingrese cada cuántas iteraciones desea ver el error: 500\n",
            "Ingrese alfa: 0.015\n",
            "Ingrese cantidad de iteraciones: 50000\n",
            "-----INICIANDO-----\n",
            "Imprimir error cada:  500 iteraciones\n",
            "Iteración 0 Error es: 2.6600344038219096e+16\n",
            "Iteración 500 Error es: 1786479003339083.2\n",
            "Iteración 1000 Error es: 1706018578846460.2\n",
            "Iteración 1500 Error es: 1667485095335358.0\n",
            "Iteración 2000 Error es: 1649030937768285.5\n",
            "Iteración 2500 Error es: 1640193015512639.5\n",
            "Iteración 3000 Error es: 1635960426216002.2\n",
            "Iteración 3500 Error es: 1633933387322041.0\n",
            "Iteración 4000 Error es: 1632962613549849.5\n",
            "Iteración 4500 Error es: 1632497698091353.8\n",
            "Iteración 5000 Error es: 1632275044379706.2\n",
            "Iteración 5500 Error es: 1632168412788081.2\n",
            "Iteración 6000 Error es: 1632117345611844.5\n",
            "Iteración 6500 Error es: 1632092888915203.0\n",
            "Iteración 7000 Error es: 1632081176303410.2\n",
            "Iteración 7500 Error es: 1632075566990058.8\n",
            "Iteración 8000 Error es: 1632072880621139.5\n",
            "Iteración 8500 Error es: 1632071594086137.2\n",
            "Iteración 9000 Error es: 1632070977948754.8\n",
            "Iteración 9500 Error es: 1632070682873010.5\n",
            "Iteración 10000 Error es: 1632070541557620.0\n",
            "Iteración 10500 Error es: 1632070473879947.0\n",
            "Iteración 11000 Error es: 1632070441468280.0\n",
            "Iteración 11500 Error es: 1632070425945935.5\n",
            "Iteración 12000 Error es: 1632070418512094.2\n",
            "Iteración 12500 Error es: 1632070414951937.0\n",
            "Iteración 13000 Error es: 1632070413246933.8\n",
            "Iteración 13500 Error es: 1632070412430386.5\n",
            "Iteración 14000 Error es: 1632070412039332.2\n",
            "Iteración 14500 Error es: 1632070411852051.8\n",
            "Iteración 15000 Error es: 1632070411762361.0\n",
            "Iteración 15500 Error es: 1632070411719406.8\n",
            "Iteración 16000 Error es: 1632070411698835.2\n",
            "Iteración 16500 Error es: 1632070411688983.5\n",
            "Iteración 17000 Error es: 1632070411684265.5\n",
            "Iteración 17500 Error es: 1632070411682006.0\n",
            "Iteración 18000 Error es: 1632070411680923.8\n",
            "Iteración 18500 Error es: 1632070411680405.0\n",
            "Iteración 19000 Error es: 1632070411680157.0\n",
            "Iteración 19500 Error es: 1632070411680038.2\n",
            "Iteración 20000 Error es: 1632070411679981.5\n",
            "Iteración 20500 Error es: 1632070411679954.0\n",
            "Iteración 21000 Error es: 1632070411679940.8\n",
            "Iteración 21500 Error es: 1632070411679934.8\n",
            "Iteración 22000 Error es: 1632070411679931.8\n",
            "Iteración 22500 Error es: 1632070411679930.0\n",
            "Iteración 23000 Error es: 1632070411679929.8\n",
            "Iteración 23500 Error es: 1632070411679929.0\n",
            "Iteración 24000 Error es: 1632070411679928.8\n",
            "Iteración 24500 Error es: 1632070411679928.8\n",
            "Iteración 25000 Error es: 1632070411679928.8\n",
            "Iteración 25500 Error es: 1632070411679928.8\n",
            "Iteración 26000 Error es: 1632070411679928.8\n",
            "Iteración 26500 Error es: 1632070411679928.8\n",
            "Iteración 27000 Error es: 1632070411679928.8\n",
            "Iteración 27500 Error es: 1632070411679929.5\n",
            "Iteración 28000 Error es: 1632070411679928.8\n",
            "Iteración 28500 Error es: 1632070411679928.5\n",
            "Iteración 29000 Error es: 1632070411679928.8\n",
            "Iteración 29500 Error es: 1632070411679928.8\n",
            "Iteración 30000 Error es: 1632070411679928.8\n",
            "Iteración 30500 Error es: 1632070411679928.8\n",
            "Iteración 31000 Error es: 1632070411679928.8\n",
            "Iteración 31500 Error es: 1632070411679928.8\n",
            "Iteración 32000 Error es: 1632070411679928.8\n",
            "Iteración 32500 Error es: 1632070411679928.5\n",
            "Iteración 33000 Error es: 1632070411679929.0\n",
            "Iteración 33500 Error es: 1632070411679928.8\n",
            "Iteración 34000 Error es: 1632070411679928.8\n",
            "Iteración 34500 Error es: 1632070411679928.8\n",
            "Iteración 35000 Error es: 1632070411679928.8\n",
            "Iteración 35500 Error es: 1632070411679928.8\n",
            "Iteración 36000 Error es: 1632070411679928.8\n",
            "Iteración 36500 Error es: 1632070411679928.8\n",
            "Iteración 37000 Error es: 1632070411679929.0\n",
            "Iteración 37500 Error es: 1632070411679929.5\n",
            "Iteración 38000 Error es: 1632070411679928.8\n",
            "Iteración 38500 Error es: 1632070411679928.8\n",
            "Iteración 39000 Error es: 1632070411679928.8\n",
            "Iteración 39500 Error es: 1632070411679928.2\n",
            "Iteración 40000 Error es: 1632070411679929.0\n",
            "Iteración 40500 Error es: 1632070411679928.8\n",
            "Iteración 41000 Error es: 1632070411679928.8\n",
            "Iteración 41500 Error es: 1632070411679928.8\n",
            "Iteración 42000 Error es: 1632070411679928.8\n",
            "Iteración 42500 Error es: 1632070411679928.8\n",
            "Iteración 43000 Error es: 1632070411679928.8\n",
            "Iteración 43500 Error es: 1632070411679928.8\n",
            "Iteración 44000 Error es: 1632070411679928.8\n",
            "Iteración 44500 Error es: 1632070411679928.8\n",
            "Iteración 45000 Error es: 1632070411679928.8\n",
            "Iteración 45500 Error es: 1632070411679928.8\n",
            "Iteración 46000 Error es: 1632070411679928.8\n",
            "Iteración 46500 Error es: 1632070411679928.8\n",
            "Iteración 47000 Error es: 1632070411679928.8\n",
            "Iteración 47500 Error es: 1632070411679928.8\n",
            "Iteración 48000 Error es: 1632070411679928.8\n",
            "Iteración 48500 Error es: 1632070411679928.8\n",
            "Iteración 49000 Error es: 1632070411679928.8\n",
            "Iteración 49500 Error es: 1632070411679928.8\n",
            "---.---.---.---.---.---.---.---.---.---.---.---.---.---.---.---.---.---.---.---.---.---.---.---.---.---.---.---.---.---.\n",
            "IMPRIMIENDO MODELO...\n"
          ],
          "name": "stdout"
        },
        {
          "output_type": "stream",
          "text": [
            "IOPub data rate exceeded.\n",
            "The notebook server will temporarily stop sending output\n",
            "to the client in order to avoid crashing it.\n",
            "To change this limit, set the config variable\n",
            "`--NotebookApp.iopub_data_rate_limit`.\n",
            "\n",
            "Current values:\n",
            "NotebookApp.iopub_data_rate_limit=1000000.0 (bytes/sec)\n",
            "NotebookApp.rate_limit_window=3.0 (secs)\n",
            "\n"
          ],
          "name": "stderr"
        }
      ]
    },
    {
      "cell_type": "markdown",
      "metadata": {
        "id": "rdygcrhQIGnG"
      },
      "source": [
        "### ***Error en el tiempo***"
      ]
    },
    {
      "cell_type": "code",
      "metadata": {
        "colab": {
          "base_uri": "https://localhost:8080/",
          "height": 295
        },
        "id": "4UAnL59EfXhE",
        "outputId": "044c76f1-070d-4a3a-fa74-57567b1b98c9"
      },
      "source": [
        "plt.plot(range(epoch), errorArray)\n",
        "plt.title(\"Error en el tiempo\")\n",
        "plt.xlabel(\"Número de iteración\")\n",
        "plt.ylabel(\"Error del modelo\")\n",
        "plt.show()"
      ],
      "execution_count": 71,
      "outputs": [
        {
          "output_type": "display_data",
          "data": {
            "image/png": "[encoded data removed]",
            "text/plain": [
              "<Figure size 432x288 with 1 Axes>"
            ]
          },
          "metadata": {
            "tags": [],
            "needs_background": "light"
          }
        }
      ]
    },
    {
      "cell_type": "markdown",
      "metadata": {
        "id": "pfGUSoLUI4At"
      },
      "source": [
        "### ***Evolución del modelo en el tiempo***"
      ]
    },
    {
      "cell_type": "code",
      "metadata": {
        "colab": {
          "base_uri": "https://localhost:8080/",
          "height": 1000
        },
        "id": "IwUSFOs8NVUn",
        "outputId": "f0559794-ad8d-4783-f11c-cf1aa8c62cbd"
      },
      "source": [
        "imprimir_graf=0\n",
        "n = int(input('Ingrese cada cuántas iteraciones desea graficar el modelo: '))\n",
        "multiplo = epoch / n #15/3 = 5 5, 10, 15, 20, 25\n",
        "fin = 0\n",
        "inicio_graf= 0\n",
        "for index, valor in enumerate(b0Array):\n",
        "  y_preds_temp = valor + b1Array[index]*X\n",
        "  if inicio_graf == fin:\n",
        "    fin = index + n \n",
        "    plt.plot(X, y_preds_temp)\n",
        "    plt.title(\"Modelo por iteración\")\n",
        "    plt.xlabel(\"OverallQual\")\n",
        "    plt.ylabel(\"SalePrice\")\n",
        "    print(index, X, y_preds_temp)\n",
        "  inicio_graf = inicio_graf + 1\n"
      ],
      "execution_count": 72,
      "outputs": [
        {
          "output_type": "stream",
          "text": [
            "Ingrese cada cuántas iteraciones desea graficar el modelo: 500\n",
            "0 [7. 6. 6. ... 7. 5. 6.] [127578.28069777 109740.06288955 109740.06288955 ... 127578.28069777\n",
            "  91901.84508134 109740.06288955]\n",
            "500 [7. 6. 6. ... 7. 5. 6.] [215149.63773356 180802.07070874 180802.07070874 ... 215149.63773356\n",
            " 146454.50368393 180802.07070874]\n",
            "1000 [7. 6. 6. ... 7. 5. 6.] [217058.6560186  179487.95905401 179487.95905401 ... 217058.6560186\n",
            " 141917.26208942 179487.95905401]\n",
            "1500 [7. 6. 6. ... 7. 5. 6.] [218379.76323371 178578.54796972 178578.54796972 ... 218379.76323371\n",
            " 138777.33270574 178578.54796972]\n",
            "2000 [7. 6. 6. ... 7. 5. 6.] [219294.01548968 177949.20379091 177949.20379091 ... 219294.01548968\n",
            " 136604.39209214 177949.20379091]\n",
            "2500 [7. 6. 6. ... 7. 5. 6.] [219926.70992811 177513.67567579 177513.67567579 ... 219926.70992811\n",
            " 135100.64142347 177513.67567579]\n",
            "3000 [7. 6. 6. ... 7. 5. 6.] [220364.55653969 177212.27503454 177212.27503454 ... 220364.55653969\n",
            " 134059.99352939 177212.27503454]\n",
            "3500 [7. 6. 6. ... 7. 5. 6.] [220667.56166133 177003.69528184 177003.69528184 ... 220667.56166133\n",
            " 133339.82890236 177003.69528184]\n",
            "4000 [7. 6. 6. ... 7. 5. 6.] [220877.2517704  176859.35082041 176859.35082041 ... 220877.2517704\n",
            " 132841.44987043 176859.35082041]\n",
            "4500 [7. 6. 6. ... 7. 5. 6.] [221022.36463716 176759.45942024 176759.45942024 ... 221022.36463716\n",
            " 132496.55420332 176759.45942024]\n",
            "5000 [7. 6. 6. ... 7. 5. 6.] [221122.78780061 176690.3310884  176690.3310884  ... 221122.78780061\n",
            " 132257.87437618 176690.3310884 ]\n",
            "5500 [7. 6. 6. ... 7. 5. 6.] [221192.28413118 176642.49187246 176642.49187246 ... 221192.28413118\n",
            " 132092.69961374 176642.49187246]\n",
            "6000 [7. 6. 6. ... 7. 5. 6.] [221240.37801507 176609.38546702 176609.38546702 ... 221240.37801507\n",
            " 131978.39291897 176609.38546702]\n",
            "6500 [7. 6. 6. ... 7. 5. 6.] [221273.66065961 176586.47468013 176586.47468013 ... 221273.66065961\n",
            " 131899.28870066 176586.47468013]\n",
            "7000 [7. 6. 6. ... 7. 5. 6.] [221296.6934101  176570.61961678 176570.61961678 ... 221296.6934101\n",
            " 131844.54582345 176570.61961678]\n",
            "7500 [7. 6. 6. ... 7. 5. 6.] [221312.63287653 176559.64736011 176559.64736011 ... 221312.63287653\n",
            " 131806.6618437  176559.64736011]\n",
            "8000 [7. 6. 6. ... 7. 5. 6.] [221323.66354305 176552.05417593 176552.05417593 ... 221323.66354305\n",
            " 131780.44480881 176552.05417593]\n",
            "8500 [7. 6. 6. ... 7. 5. 6.] [221331.2971489  176546.79942773 176546.79942773 ... 221331.2971489\n",
            " 131762.30170655 176546.79942773]\n",
            "9000 [7. 6. 6. ... 7. 5. 6.] [221336.5798703  176543.16295875 176543.16295875 ... 221336.5798703\n",
            " 131749.7460472  176543.16295875]\n",
            "9500 [7. 6. 6. ... 7. 5. 6.] [221340.23569771 176540.64639543 176540.64639543 ... 221340.23569771\n",
            " 131741.05709314 176540.64639543]\n",
            "10000 [7. 6. 6. ... 7. 5. 6.] [221342.76565774 176538.90484586 176538.90484586 ... 221342.76565774\n",
            " 131735.04403398 176538.90484586]\n",
            "10500 [7. 6. 6. ... 7. 5. 6.] [221344.5164783  176537.69963284 176537.69963284 ... 221344.5164783\n",
            " 131730.88278738 176537.69963284]\n",
            "11000 [7. 6. 6. ... 7. 5. 6.] [221345.72810717 176536.8655834  176536.8655834  ... 221345.72810717\n",
            " 131728.00305964 176536.8655834 ]\n",
            "11500 [7. 6. 6. ... 7. 5. 6.] [221346.56659659 176536.28839212 176536.28839212 ... 221346.56659659\n",
            " 131726.01018764 176536.28839212]\n",
            "12000 [7. 6. 6. ... 7. 5. 6.] [221347.14686051 176535.88895562 176535.88895562 ... 221347.14686051\n",
            " 131724.63105073 176535.88895562]\n",
            "12500 [7. 6. 6. ... 7. 5. 6.] [221347.54842337 176535.61253164 176535.61253164 ... 221347.54842337\n",
            " 131723.6766399  176535.61253164]\n",
            "13000 [7. 6. 6. ... 7. 5. 6.] [221347.82631887 176535.4212366  176535.4212366  ... 221347.82631887\n",
            " 131723.01615433 176535.4212366 ]\n",
            "13500 [7. 6. 6. ... 7. 5. 6.] [221348.01863225 176535.28885377 176535.28885377 ... 221348.01863225\n",
            " 131722.55907529 176535.28885377]\n",
            "14000 [7. 6. 6. ... 7. 5. 6.] [221348.15171981 176535.19724023 176535.19724023 ... 221348.15171981\n",
            " 131722.24276065 176535.19724023]\n",
            "14500 [7. 6. 6. ... 7. 5. 6.] [221348.24382104 176535.13384047 176535.13384047 ... 221348.24382104\n",
            " 131722.02385989 176535.13384047]\n",
            "15000 [7. 6. 6. ... 7. 5. 6.] [221348.30755831 176535.08996562 176535.08996562 ... 221348.30755831\n",
            " 131721.87237294 176535.08996562]\n",
            "15500 [7. 6. 6. ... 7. 5. 6.] [221348.35166672 176535.0596027  176535.0596027  ... 221348.35166672\n",
            " 131721.76753868 176535.0596027 ]\n",
            "16000 [7. 6. 6. ... 7. 5. 6.] [221348.38219128 176535.0385905  176535.0385905  ... 221348.38219128\n",
            " 131721.69498972 176535.0385905 ]\n",
            "16500 [7. 6. 6. ... 7. 5. 6.] [221348.40331533 176535.02404932 176535.02404932 ... 221348.40331533\n",
            " 131721.64478331 176535.02404932]\n",
            "17000 [7. 6. 6. ... 7. 5. 6.] [221348.41793392 176535.01398632 176535.01398632 ... 221348.41793392\n",
            " 131721.61003873 176535.01398632]\n",
            "17500 [7. 6. 6. ... 7. 5. 6.] [221348.42805049 176535.00702237 176535.00702237 ... 221348.42805049\n",
            " 131721.58599426 176535.00702237]\n",
            "18000 [7. 6. 6. ... 7. 5. 6.] [221348.43505151 176535.00220308 176535.00220308 ... 221348.43505151\n",
            " 131721.56935465 176535.00220308]\n",
            "18500 [7. 6. 6. ... 7. 5. 6.] [221348.43989646 176534.99886796 176534.99886796 ... 221348.43989646\n",
            " 131721.55783946 176534.99886796]\n",
            "19000 [7. 6. 6. ... 7. 5. 6.] [221348.44324933 176534.99655994 176534.99655994 ... 221348.44324933\n",
            " 131721.54987055 176534.99655994]\n",
            "19500 [7. 6. 6. ... 7. 5. 6.] [221348.44556964 176534.99496271 176534.99496271 ... 221348.44556964\n",
            " 131721.54435579 176534.99496271]\n",
            "20000 [7. 6. 6. ... 7. 5. 6.] [221348.44717537 176534.99385737 176534.99385737 ... 221348.44717537\n",
            " 131721.54053938 176534.99385737]\n",
            "20500 [7. 6. 6. ... 7. 5. 6.] [221348.44828659 176534.99309244 176534.99309244 ... 221348.44828659\n",
            " 131721.53789829 176534.99309244]\n",
            "21000 [7. 6. 6. ... 7. 5. 6.] [221348.4490556  176534.99256308 176534.99256308 ... 221348.4490556\n",
            " 131721.53607056 176534.99256308]\n",
            "21500 [7. 6. 6. ... 7. 5. 6.] [221348.44958778 176534.99219674 176534.99219674 ... 221348.44958778\n",
            " 131721.53480571 176534.99219674]\n",
            "22000 [7. 6. 6. ... 7. 5. 6.] [221348.44995606 176534.99194323 176534.99194323 ... 221348.44995606\n",
            " 131721.53393039 176534.99194323]\n",
            "22500 [7. 6. 6. ... 7. 5. 6.] [221348.45021093 176534.99176778 176534.99176778 ... 221348.45021093\n",
            " 131721.53332464 176534.99176778]\n",
            "23000 [7. 6. 6. ... 7. 5. 6.] [221348.45038731 176534.99164637 176534.99164637 ... 221348.45038731\n",
            " 131721.53290544 176534.99164637]\n",
            "23500 [7. 6. 6. ... 7. 5. 6.] [221348.45050936 176534.99156235 176534.99156235 ... 221348.45050936\n",
            " 131721.53261534 176534.99156235]\n",
            "24000 [7. 6. 6. ... 7. 5. 6.] [221348.45059383 176534.9915042  176534.9915042  ... 221348.45059383\n",
            " 131721.53241458 176534.9915042 ]\n",
            "24500 [7. 6. 6. ... 7. 5. 6.] [221348.45065229 176534.99146397 176534.99146397 ... 221348.45065229\n",
            " 131721.53227564 176534.99146397]\n",
            "25000 [7. 6. 6. ... 7. 5. 6.] [221348.45069274 176534.99143612 176534.99143612 ... 221348.45069274\n",
            " 131721.5321795  176534.99143612]\n",
            "25500 [7. 6. 6. ... 7. 5. 6.] [221348.45072074 176534.99141685 176534.99141685 ... 221348.45072074\n",
            " 131721.53211296 176534.99141685]\n",
            "26000 [7. 6. 6. ... 7. 5. 6.] [221348.45074011 176534.99140351 176534.99140351 ... 221348.45074011\n",
            " 131721.53206691 176534.99140351]\n",
            "26500 [7. 6. 6. ... 7. 5. 6.] [221348.45075352 176534.99139428 176534.99139428 ... 221348.45075352\n",
            " 131721.53203505 176534.99139428]\n",
            "27000 [7. 6. 6. ... 7. 5. 6.] [221348.4507628 176534.9913879 176534.9913879 ... 221348.4507628\n",
            " 131721.532013  176534.9913879]\n",
            "27500 [7. 6. 6. ... 7. 5. 6.] [221348.45076922 176534.99138348 176534.99138348 ... 221348.45076922\n",
            " 131721.53199773 176534.99138348]\n",
            "28000 [7. 6. 6. ... 7. 5. 6.] [221348.45077366 176534.99138042 176534.99138042 ... 221348.45077366\n",
            " 131721.53198717 176534.99138042]\n",
            "28500 [7. 6. 6. ... 7. 5. 6.] [221348.45077674 176534.9913783  176534.9913783  ... 221348.45077674\n",
            " 131721.53197987 176534.9913783 ]\n",
            "29000 [7. 6. 6. ... 7. 5. 6.] [221348.45077886 176534.99137684 176534.99137684 ... 221348.45077886\n",
            " 131721.53197481 176534.99137684]\n",
            "29500 [7. 6. 6. ... 7. 5. 6.] [221348.45078034 176534.99137582 176534.99137582 ... 221348.45078034\n",
            " 131721.53197131 176534.99137582]\n",
            "30000 [7. 6. 6. ... 7. 5. 6.] [221348.45078135 176534.99137512 176534.99137512 ... 221348.45078135\n",
            " 131721.53196889 176534.99137512]\n",
            "30500 [7. 6. 6. ... 7. 5. 6.] [221348.45078206 176534.99137463 176534.99137463 ... 221348.45078206\n",
            " 131721.53196721 176534.99137463]\n",
            "31000 [7. 6. 6. ... 7. 5. 6.] [221348.45078255 176534.9913743  176534.9913743  ... 221348.45078255\n",
            " 131721.53196605 176534.9913743 ]\n",
            "31500 [7. 6. 6. ... 7. 5. 6.] [221348.45078289 176534.99137407 176534.99137407 ... 221348.45078289\n",
            " 131721.53196525 176534.99137407]\n",
            "32000 [7. 6. 6. ... 7. 5. 6.] [221348.45078312 176534.99137391 176534.99137391 ... 221348.45078312\n",
            " 131721.53196469 176534.99137391]\n",
            "32500 [7. 6. 6. ... 7. 5. 6.] [221348.45078328 176534.99137379 176534.99137379 ... 221348.45078328\n",
            " 131721.53196431 176534.99137379]\n",
            "33000 [7. 6. 6. ... 7. 5. 6.] [221348.45078339 176534.99137372 176534.99137372 ... 221348.45078339\n",
            " 131721.53196404 176534.99137372]\n",
            "33500 [7. 6. 6. ... 7. 5. 6.] [221348.45078347 176534.99137366 176534.99137366 ... 221348.45078347\n",
            " 131721.53196386 176534.99137366]\n",
            "34000 [7. 6. 6. ... 7. 5. 6.] [221348.45078352 176534.99137363 176534.99137363 ... 221348.45078352\n",
            " 131721.53196373 176534.99137363]\n",
            "34500 [7. 6. 6. ... 7. 5. 6.] [221348.45078356 176534.9913736  176534.9913736  ... 221348.45078356\n",
            " 131721.53196364 176534.9913736 ]\n",
            "35000 [7. 6. 6. ... 7. 5. 6.] [221348.45078359 176534.99137358 176534.99137358 ... 221348.45078359\n",
            " 131721.53196358 176534.99137358]\n",
            "35500 [7. 6. 6. ... 7. 5. 6.] [221348.45078361 176534.99137357 176534.99137357 ... 221348.45078361\n",
            " 131721.53196354 176534.99137357]\n",
            "36000 [7. 6. 6. ... 7. 5. 6.] [221348.45078362 176534.99137356 176534.99137356 ... 221348.45078362\n",
            " 131721.53196351 176534.99137356]\n",
            "36500 [7. 6. 6. ... 7. 5. 6.] [221348.45078363 176534.99137356 176534.99137356 ... 221348.45078363\n",
            " 131721.53196349 176534.99137356]\n",
            "37000 [7. 6. 6. ... 7. 5. 6.] [221348.45078363 176534.99137355 176534.99137355 ... 221348.45078363\n",
            " 131721.53196347 176534.99137355]\n",
            "37500 [7. 6. 6. ... 7. 5. 6.] [221348.45078364 176534.99137355 176534.99137355 ... 221348.45078364\n",
            " 131721.53196346 176534.99137355]\n",
            "38000 [7. 6. 6. ... 7. 5. 6.] [221348.45078364 176534.99137355 176534.99137355 ... 221348.45078364\n",
            " 131721.53196346 176534.99137355]\n",
            "38500 [7. 6. 6. ... 7. 5. 6.] [221348.45078364 176534.99137355 176534.99137355 ... 221348.45078364\n",
            " 131721.53196345 176534.99137355]\n",
            "39000 [7. 6. 6. ... 7. 5. 6.] [221348.45078364 176534.99137355 176534.99137355 ... 221348.45078364\n",
            " 131721.53196345 176534.99137355]\n",
            "39500 [7. 6. 6. ... 7. 5. 6.] [221348.45078364 176534.99137355 176534.99137355 ... 221348.45078364\n",
            " 131721.53196345 176534.99137355]\n",
            "40000 [7. 6. 6. ... 7. 5. 6.] [221348.45078364 176534.99137354 176534.99137354 ... 221348.45078364\n",
            " 131721.53196345 176534.99137354]\n",
            "40500 [7. 6. 6. ... 7. 5. 6.] [221348.45078364 176534.99137354 176534.99137354 ... 221348.45078364\n",
            " 131721.53196344 176534.99137354]\n",
            "41000 [7. 6. 6. ... 7. 5. 6.] [221348.45078364 176534.99137354 176534.99137354 ... 221348.45078364\n",
            " 131721.53196344 176534.99137354]\n",
            "41500 [7. 6. 6. ... 7. 5. 6.] [221348.45078364 176534.99137354 176534.99137354 ... 221348.45078364\n",
            " 131721.53196344 176534.99137354]\n",
            "42000 [7. 6. 6. ... 7. 5. 6.] [221348.45078364 176534.99137354 176534.99137354 ... 221348.45078364\n",
            " 131721.53196344 176534.99137354]\n",
            "42500 [7. 6. 6. ... 7. 5. 6.] [221348.45078364 176534.99137354 176534.99137354 ... 221348.45078364\n",
            " 131721.53196344 176534.99137354]\n",
            "43000 [7. 6. 6. ... 7. 5. 6.] [221348.45078364 176534.99137354 176534.99137354 ... 221348.45078364\n",
            " 131721.53196344 176534.99137354]\n",
            "43500 [7. 6. 6. ... 7. 5. 6.] [221348.45078364 176534.99137354 176534.99137354 ... 221348.45078364\n",
            " 131721.53196344 176534.99137354]\n",
            "44000 [7. 6. 6. ... 7. 5. 6.] [221348.45078364 176534.99137354 176534.99137354 ... 221348.45078364\n",
            " 131721.53196344 176534.99137354]\n",
            "44500 [7. 6. 6. ... 7. 5. 6.] [221348.45078364 176534.99137354 176534.99137354 ... 221348.45078364\n",
            " 131721.53196344 176534.99137354]\n",
            "45000 [7. 6. 6. ... 7. 5. 6.] [221348.45078364 176534.99137354 176534.99137354 ... 221348.45078364\n",
            " 131721.53196344 176534.99137354]\n",
            "45500 [7. 6. 6. ... 7. 5. 6.] [221348.45078364 176534.99137354 176534.99137354 ... 221348.45078364\n",
            " 131721.53196344 176534.99137354]\n",
            "46000 [7. 6. 6. ... 7. 5. 6.] [221348.45078364 176534.99137354 176534.99137354 ... 221348.45078364\n",
            " 131721.53196344 176534.99137354]\n",
            "46500 [7. 6. 6. ... 7. 5. 6.] [221348.45078364 176534.99137354 176534.99137354 ... 221348.45078364\n",
            " 131721.53196344 176534.99137354]\n",
            "47000 [7. 6. 6. ... 7. 5. 6.] [221348.45078364 176534.99137354 176534.99137354 ... 221348.45078364\n",
            " 131721.53196344 176534.99137354]\n",
            "47500 [7. 6. 6. ... 7. 5. 6.] [221348.45078364 176534.99137354 176534.99137354 ... 221348.45078364\n",
            " 131721.53196344 176534.99137354]\n",
            "48000 [7. 6. 6. ... 7. 5. 6.] [221348.45078364 176534.99137354 176534.99137354 ... 221348.45078364\n",
            " 131721.53196344 176534.99137354]\n",
            "48500 [7. 6. 6. ... 7. 5. 6.] [221348.45078364 176534.99137354 176534.99137354 ... 221348.45078364\n",
            " 131721.53196344 176534.99137354]\n",
            "49000 [7. 6. 6. ... 7. 5. 6.] [221348.45078364 176534.99137354 176534.99137354 ... 221348.45078364\n",
            " 131721.53196344 176534.99137354]\n",
            "49500 [7. 6. 6. ... 7. 5. 6.] [221348.45078364 176534.99137354 176534.99137354 ... 221348.45078364\n",
            " 131721.53196344 176534.99137354]\n"
          ],
          "name": "stdout"
        },
        {
          "output_type": "display_data",
          "data": {
            "image/png": "[encoded data removed]",
            "text/plain": [
              "<Figure size 432x288 with 1 Axes>"
            ]
          },
          "metadata": {
            "tags": [],
            "needs_background": "light"
          }
        }
      ]
    },
    {
      "cell_type": "markdown",
      "metadata": {
        "id": "cC8fiCb3e3d9"
      },
      "source": [
        "### ***Scikit-learn para entrenar un modelo de regresi\u0013on lineal***"
      ]
    },
    {
      "cell_type": "code",
      "metadata": {
        "id": "k6Ulv3iHe2ML"
      },
      "source": [
        "from sklearn.model_selection import train_test_split\n",
        "from sklearn.metrics import accuracy_score\n",
        "from sklearn.linear_model import LinearRegression\n",
        "from sklearn import metrics\n",
        "import math"
      ],
      "execution_count": 89,
      "outputs": []
    },
    {
      "cell_type": "code",
      "metadata": {
        "id": "5rOriK3jgMbJ"
      },
      "source": [
        "X_sk = X.reshape(-1,1)\n",
        "Y_sk = Y.reshape(-1,1)"
      ],
      "execution_count": 74,
      "outputs": []
    },
    {
      "cell_type": "code",
      "metadata": {
        "id": "I88JjKSJxbXq"
      },
      "source": [
        "dataTrain_sk = dataTrain.reshape(-1,1)\n",
        "dataTest_sk = dataTest.reshape(-1,1)\n",
        "dataTrain_Sales_sk = dataTrain_Sales.reshape(-1,1)\n",
        "dataTest_Sales_sk = dataTest_Sales.reshape(-1,1)"
      ],
      "execution_count": 103,
      "outputs": []
    },
    {
      "cell_type": "code",
      "metadata": {
        "id": "TtkFQaVXhAyk"
      },
      "source": [
        "#dataTrain, dataTest, dataTrain_Sales, dataTest_Sales = train_test_split(X_sk, Y_sk, test_size = 0.2, shuffle = True, random_state = 123)"
      ],
      "execution_count": 75,
      "outputs": []
    },
    {
      "cell_type": "code",
      "metadata": {
        "colab": {
          "base_uri": "https://localhost:8080/"
        },
        "id": "bod2hZ58fsjk",
        "outputId": "54d8b8dd-932d-4902-d4a8-87a1af2f0d94"
      },
      "source": [
        "lm_1= LinearRegression()\n",
        "lm_1.fit(dataTrain, dataTrain_Sales)"
      ],
      "execution_count": 104,
      "outputs": [
        {
          "output_type": "execute_result",
          "data": {
            "text/plain": [
              "LinearRegression(copy_X=True, fit_intercept=True, n_jobs=None, normalize=False)"
            ]
          },
          "metadata": {
            "tags": []
          },
          "execution_count": 104
        }
      ]
    },
    {
      "cell_type": "code",
      "metadata": {
        "colab": {
          "base_uri": "https://localhost:8080/"
        },
        "id": "yJU3ppW1f1sk",
        "outputId": "f883409c-8bf9-469d-8ff5-56fe0083be72"
      },
      "source": [
        "B1_sk=lm_1.coef_\n",
        "B1_sk"
      ],
      "execution_count": 105,
      "outputs": [
        {
          "output_type": "execute_result",
          "data": {
            "text/plain": [
              "array([[46118.29572687]])"
            ]
          },
          "metadata": {
            "tags": []
          },
          "execution_count": 105
        }
      ]
    },
    {
      "cell_type": "code",
      "metadata": {
        "colab": {
          "base_uri": "https://localhost:8080/"
        },
        "id": "kHQWvDsFf2Vs",
        "outputId": "801e799b-42de-4696-dd33-05ddf7ba56df"
      },
      "source": [
        "B0_sk=lm_1.intercept_ \n",
        "B0_sk"
      ],
      "execution_count": 106,
      "outputs": [
        {
          "output_type": "execute_result",
          "data": {
            "text/plain": [
              "array([-98662.61819078])"
            ]
          },
          "metadata": {
            "tags": []
          },
          "execution_count": 106
        }
      ]
    },
    {
      "cell_type": "code",
      "metadata": {
        "colab": {
          "base_uri": "https://localhost:8080/"
        },
        "id": "SjSD44Zuf370",
        "outputId": "c07af324-d263-4b2f-c416-e3e90dca7ba6"
      },
      "source": [
        "Y_predict = lm_1.predict(dataTest_sk)\n",
        "Y_predict"
      ],
      "execution_count": 108,
      "outputs": [
        {
          "output_type": "execute_result",
          "data": {
            "text/plain": [
              "array([[ 85810.56471672],\n",
              "       [178047.15617047],\n",
              "       [ 85810.56471672],\n",
              "       [178047.15617047],\n",
              "       [178047.15617047],\n",
              "       [224165.45189734],\n",
              "       [224165.45189734],\n",
              "       [224165.45189734],\n",
              "       [178047.15617047],\n",
              "       [178047.15617047],\n",
              "       [131928.86044359],\n",
              "       [316402.04335109],\n",
              "       [178047.15617047],\n",
              "       [178047.15617047],\n",
              "       [178047.15617047],\n",
              "       [224165.45189734],\n",
              "       [224165.45189734],\n",
              "       [178047.15617047],\n",
              "       [131928.86044359],\n",
              "       [ 85810.56471672],\n",
              "       [178047.15617047],\n",
              "       [224165.45189734],\n",
              "       [131928.86044359],\n",
              "       [ 85810.56471672],\n",
              "       [224165.45189734],\n",
              "       [224165.45189734],\n",
              "       [224165.45189734],\n",
              "       [270283.74762421],\n",
              "       [131928.86044359],\n",
              "       [131928.86044359],\n",
              "       [131928.86044359],\n",
              "       [ 85810.56471672],\n",
              "       [131928.86044359],\n",
              "       [131928.86044359],\n",
              "       [131928.86044359],\n",
              "       [178047.15617047],\n",
              "       [270283.74762421],\n",
              "       [131928.86044359],\n",
              "       [131928.86044359],\n",
              "       [178047.15617047],\n",
              "       [224165.45189734],\n",
              "       [ 39692.26898984],\n",
              "       [131928.86044359],\n",
              "       [178047.15617047],\n",
              "       [131928.86044359],\n",
              "       [224165.45189734],\n",
              "       [224165.45189734],\n",
              "       [178047.15617047],\n",
              "       [178047.15617047],\n",
              "       [131928.86044359],\n",
              "       [131928.86044359],\n",
              "       [224165.45189734],\n",
              "       [224165.45189734],\n",
              "       [224165.45189734],\n",
              "       [178047.15617047],\n",
              "       [178047.15617047],\n",
              "       [ 85810.56471672],\n",
              "       [224165.45189734],\n",
              "       [270283.74762421],\n",
              "       [178047.15617047],\n",
              "       [131928.86044359],\n",
              "       [131928.86044359],\n",
              "       [224165.45189734],\n",
              "       [178047.15617047],\n",
              "       [270283.74762421],\n",
              "       [270283.74762421],\n",
              "       [224165.45189734],\n",
              "       [131928.86044359],\n",
              "       [316402.04335109],\n",
              "       [131928.86044359],\n",
              "       [224165.45189734],\n",
              "       [ 85810.56471672],\n",
              "       [178047.15617047],\n",
              "       [224165.45189734],\n",
              "       [224165.45189734],\n",
              "       [ 85810.56471672],\n",
              "       [224165.45189734],\n",
              "       [224165.45189734],\n",
              "       [178047.15617047],\n",
              "       [178047.15617047],\n",
              "       [ 85810.56471672],\n",
              "       [178047.15617047],\n",
              "       [131928.86044359],\n",
              "       [131928.86044359],\n",
              "       [178047.15617047],\n",
              "       [178047.15617047],\n",
              "       [270283.74762421],\n",
              "       [131928.86044359],\n",
              "       [224165.45189734],\n",
              "       [ 39692.26898984],\n",
              "       [131928.86044359],\n",
              "       [270283.74762421],\n",
              "       [178047.15617047],\n",
              "       [178047.15617047],\n",
              "       [178047.15617047],\n",
              "       [224165.45189734],\n",
              "       [178047.15617047],\n",
              "       [ 85810.56471672],\n",
              "       [362520.33907796],\n",
              "       [131928.86044359],\n",
              "       [224165.45189734],\n",
              "       [270283.74762421],\n",
              "       [224165.45189734],\n",
              "       [131928.86044359],\n",
              "       [362520.33907796],\n",
              "       [224165.45189734],\n",
              "       [224165.45189734],\n",
              "       [270283.74762421],\n",
              "       [178047.15617047],\n",
              "       [270283.74762421],\n",
              "       [224165.45189734],\n",
              "       [224165.45189734],\n",
              "       [178047.15617047],\n",
              "       [131928.86044359],\n",
              "       [178047.15617047],\n",
              "       [178047.15617047],\n",
              "       [224165.45189734],\n",
              "       [362520.33907796],\n",
              "       [316402.04335109],\n",
              "       [131928.86044359],\n",
              "       [224165.45189734],\n",
              "       [224165.45189734],\n",
              "       [270283.74762421],\n",
              "       [ 85810.56471672],\n",
              "       [178047.15617047],\n",
              "       [224165.45189734],\n",
              "       [178047.15617047],\n",
              "       [224165.45189734],\n",
              "       [131928.86044359],\n",
              "       [ 85810.56471672],\n",
              "       [270283.74762421],\n",
              "       [178047.15617047],\n",
              "       [131928.86044359],\n",
              "       [131928.86044359],\n",
              "       [224165.45189734],\n",
              "       [178047.15617047],\n",
              "       [178047.15617047],\n",
              "       [131928.86044359],\n",
              "       [224165.45189734],\n",
              "       [ 85810.56471672],\n",
              "       [178047.15617047],\n",
              "       [131928.86044359],\n",
              "       [178047.15617047],\n",
              "       [131928.86044359],\n",
              "       [224165.45189734],\n",
              "       [131928.86044359],\n",
              "       [316402.04335109],\n",
              "       [131928.86044359],\n",
              "       [270283.74762421],\n",
              "       [178047.15617047],\n",
              "       [178047.15617047],\n",
              "       [224165.45189734],\n",
              "       [178047.15617047],\n",
              "       [224165.45189734],\n",
              "       [178047.15617047],\n",
              "       [178047.15617047],\n",
              "       [131928.86044359],\n",
              "       [178047.15617047],\n",
              "       [131928.86044359],\n",
              "       [178047.15617047],\n",
              "       [224165.45189734],\n",
              "       [224165.45189734],\n",
              "       [270283.74762421],\n",
              "       [ 85810.56471672],\n",
              "       [131928.86044359],\n",
              "       [ 85810.56471672],\n",
              "       [131928.86044359],\n",
              "       [131928.86044359],\n",
              "       [178047.15617047],\n",
              "       [131928.86044359],\n",
              "       [ 85810.56471672],\n",
              "       [131928.86044359],\n",
              "       [131928.86044359],\n",
              "       [178047.15617047],\n",
              "       [178047.15617047],\n",
              "       [270283.74762421],\n",
              "       [131928.86044359],\n",
              "       [224165.45189734],\n",
              "       [178047.15617047],\n",
              "       [178047.15617047],\n",
              "       [224165.45189734],\n",
              "       [224165.45189734],\n",
              "       [224165.45189734],\n",
              "       [178047.15617047],\n",
              "       [362520.33907796],\n",
              "       [131928.86044359],\n",
              "       [131928.86044359],\n",
              "       [178047.15617047],\n",
              "       [224165.45189734],\n",
              "       [224165.45189734],\n",
              "       [131928.86044359],\n",
              "       [178047.15617047],\n",
              "       [131928.86044359],\n",
              "       [224165.45189734],\n",
              "       [178047.15617047],\n",
              "       [131928.86044359],\n",
              "       [131928.86044359],\n",
              "       [270283.74762421],\n",
              "       [131928.86044359],\n",
              "       [178047.15617047],\n",
              "       [178047.15617047],\n",
              "       [178047.15617047],\n",
              "       [224165.45189734],\n",
              "       [131928.86044359],\n",
              "       [178047.15617047],\n",
              "       [224165.45189734],\n",
              "       [131928.86044359],\n",
              "       [178047.15617047],\n",
              "       [224165.45189734],\n",
              "       [131928.86044359],\n",
              "       [270283.74762421],\n",
              "       [224165.45189734],\n",
              "       [131928.86044359],\n",
              "       [270283.74762421],\n",
              "       [224165.45189734],\n",
              "       [178047.15617047],\n",
              "       [131928.86044359],\n",
              "       [178047.15617047],\n",
              "       [178047.15617047],\n",
              "       [270283.74762421],\n",
              "       [178047.15617047],\n",
              "       [224165.45189734],\n",
              "       [131928.86044359],\n",
              "       [ 39692.26898984],\n",
              "       [ 85810.56471672],\n",
              "       [178047.15617047],\n",
              "       [178047.15617047],\n",
              "       [178047.15617047],\n",
              "       [224165.45189734],\n",
              "       [178047.15617047],\n",
              "       [224165.45189734],\n",
              "       [270283.74762421],\n",
              "       [131928.86044359],\n",
              "       [131928.86044359]])"
            ]
          },
          "metadata": {
            "tags": []
          },
          "execution_count": 108
        }
      ]
    },
    {
      "cell_type": "markdown",
      "metadata": {
        "id": "SbDJAK-Wf_6A"
      },
      "source": [
        "### ***Cálculo R^2***"
      ]
    },
    {
      "cell_type": "code",
      "metadata": {
        "colab": {
          "base_uri": "https://localhost:8080/"
        },
        "id": "SIGpoO_EgAyA",
        "outputId": "08031e93-7ce6-41b3-ceef-1ede497f9d04"
      },
      "source": [
        "lm_1.score(dataTrain_sk, dataTrain_Sales_sk)"
      ],
      "execution_count": 109,
      "outputs": [
        {
          "output_type": "execute_result",
          "data": {
            "text/plain": [
              "0.6303362665091137"
            ]
          },
          "metadata": {
            "tags": []
          },
          "execution_count": 109
        }
      ]
    },
    {
      "cell_type": "markdown",
      "metadata": {
        "id": "SqYWXf-ntMkn"
      },
      "source": [
        "### ***RMSE***"
      ]
    },
    {
      "cell_type": "code",
      "metadata": {
        "colab": {
          "base_uri": "https://localhost:8080/"
        },
        "id": "RLLIPkgKgCiR",
        "outputId": "b05f842b-5dd2-445a-ba0c-3b12657bb019"
      },
      "source": [
        "rmse = math.sqrt(metrics.mean_squared_error(dataTest_Sales_sk, Y_predict))\n",
        "rmse"
      ],
      "execution_count": 110,
      "outputs": [
        {
          "output_type": "execute_result",
          "data": {
            "text/plain": [
              "42626.121138215"
            ]
          },
          "metadata": {
            "tags": []
          },
          "execution_count": 110
        }
      ]
    },
    {
      "cell_type": "markdown",
      "metadata": {
        "id": "ckUJoHWOtxbY"
      },
      "source": [
        "### ***Modelos***"
      ]
    },
    {
      "cell_type": "code",
      "metadata": {
        "id": "iafncyqatvWg"
      },
      "source": [
        "#manualmente\n",
        "b1Array\n",
        "b0Array\n",
        "\n",
        "y = b0Array + b1Array*X\n",
        "\n",
        "#sklearn\n",
        "B1_sk\n",
        "B0_sk\n",
        "lm_1.predict(dataTest)\n",
        "\n",
        "promedio(y y lm_1)\n",
        "\n",
        "\n",
        "resultado en vector\n",
        "y\n",
        "lm_1\n",
        "promedio"
      ],
      "execution_count": null,
      "outputs": []
    },
    {
      "cell_type": "code",
      "metadata": {
        "colab": {
          "base_uri": "https://localhost:8080/"
        },
        "id": "FeZXFGVyfbZM",
        "outputId": "5bed4a55-a5e5-448d-8e28-06236bbef827"
      },
      "source": [
        "#RMSE\n",
        "from sklearn import metrics\n",
        "import math\n",
        "Y_predicts_test = b0 + b1*dataTest\n",
        "rmse = math.sqrt(metrics.mean_squared_error(dataTest_Sales, Y_predicts_test))\n",
        "rmse #comparar  SE TIENE QUE COMPARAR CON ALGO"
      ],
      "execution_count": null,
      "outputs": [
        {
          "output_type": "execute_result",
          "data": {
            "text/plain": [
              "49181.01784981099"
            ]
          },
          "metadata": {
            "tags": []
          },
          "execution_count": 56
        }
      ]
    },
    {
      "cell_type": "code",
      "metadata": {
        "colab": {
          "base_uri": "https://localhost:8080/"
        },
        "id": "BHMDj_P_7QR4",
        "outputId": "a6c9771c-1f40-4201-f38b-6ee4d7e27fbc"
      },
      "source": [
        "#variable indepediente\n",
        "X = dataset['OverallQual'].values.reshape(-1,1) #reshape porque la función de regresión necesita una estructura columna, no fila, y reshape extrae y vuelve clumna\n",
        "#variable dependiente\n",
        "#trayendo los arreglos donde están ubicadas las columnas\n",
        "Y = dataset['SalePrice'].values.reshape(-1,1)"
      ],
      "execution_count": null,
      "outputs": [
        {
          "output_type": "execute_result",
          "data": {
            "text/plain": [
              "array([[7.],\n",
              "       [6.],\n",
              "       [7.],\n",
              "       ...,\n",
              "       [7.],\n",
              "       [5.],\n",
              "       [5.]])"
            ]
          },
          "metadata": {
            "tags": []
          },
          "execution_count": 14
        }
      ]
    },
    {
      "cell_type": "code",
      "metadata": {
        "colab": {
          "base_uri": "https://localhost:8080/",
          "height": 276
        },
        "id": "1vOsnlpSfWcz",
        "outputId": "4d0c0970-45a2-437b-83cf-89e0592761b1"
      },
      "source": [
        "plt.plot(range(epoch), errorArray) #primer gráfica\n",
        "plt.show()"
      ],
      "execution_count": null,
      "outputs": [
        {
          "output_type": "display_data",
          "data": {
            "image/png": "[encoded data removed]",
            "text/plain": [
              "<Figure size 432x288 with 1 Axes>"
            ]
          },
          "metadata": {
            "tags": [],
            "needs_background": "light"
          }
        }
      ]
    },
    {
      "cell_type": "code",
      "metadata": {
        "colab": {
          "base_uri": "https://localhost:8080/"
        },
        "id": "Kt5wBYEsfQkb",
        "outputId": "6281afe3-7de7-46d3-8479-ab88029ebd69"
      },
      "source": [
        "X = dataTrain\n",
        "Y = dataTrain_Sales\n",
        "errorArray = np.array([])\n",
        "b0Array = np.array([])\n",
        "b1Array = np.array([])\n",
        "\n",
        "learning_rate = 0.015\n",
        "b0 = 0\n",
        "b1 = 0\n",
        "epoch = 1000\n",
        "n = len(X)\n",
        "\n",
        "#por cada epoch estos son los pasos que tenemos que ir iterando\n",
        "\n",
        "for i in range(epoch):\n",
        "  y_estim = b0 + b1*X\n",
        "  gradB1 = 1/n*np.sum((y_estim - Y)*X)\n",
        "  gradB0 = 1/n*np.sum((y_estim - Y))\n",
        "\n",
        "  error = 1/2*n*np.sum(np.power(y_estim - Y,2))\n",
        "  errorArray = np.append(errorArray, error)\n",
        "\n",
        "  b0 = b0 - learning_rate*gradB0\n",
        "  b1= b1 - learning_rate*gradB1\n",
        "\n",
        "  b0Array = np.append(b0Array, error)\n",
        "  b1Array = np.append(b1Array, error)\n",
        "\n",
        "print('B0: {}, B1: {}'.format (b0, b1))"
      ],
      "execution_count": null,
      "outputs": [
        {
          "output_type": "stream",
          "text": [
            "B0: -45902.041689445214, B1: 37565.36260510504\n"
          ],
          "name": "stdout"
        }
      ]
    },
    {
      "cell_type": "code",
      "metadata": {
        "id": "dmpES24r7puF"
      },
      "source": [
        "from sklearn.model_selection import train_test_split\n",
        "dataTrain, dataTest, dataTrain_Sales, dataTest_Sales = train_test_split(X, Y, test_size = 0.2, shuffle = True, random_state = 123)"
      ],
      "execution_count": null,
      "outputs": []
    },
    {
      "cell_type": "code",
      "metadata": {
        "colab": {
          "base_uri": "https://localhost:8080/"
        },
        "id": "E0GOYS6X86gX",
        "outputId": "764d71f4-973a-4a9b-f895-9014669f9c6a"
      },
      "source": [
        "dataTrain"
      ],
      "execution_count": null,
      "outputs": [
        {
          "output_type": "execute_result",
          "data": {
            "text/plain": [
              "array([[7.],\n",
              "       [6.],\n",
              "       [6.],\n",
              "       ...,\n",
              "       [7.],\n",
              "       [5.],\n",
              "       [6.]])"
            ]
          },
          "metadata": {
            "tags": []
          },
          "execution_count": 17
        }
      ]
    },
    {
      "cell_type": "code",
      "metadata": {
        "colab": {
          "base_uri": "https://localhost:8080/"
        },
        "id": "GzyLhuyB89o2",
        "outputId": "94ef6cda-8c81-4462-cf5b-23fbe4180a5a"
      },
      "source": [
        "from sklearn.linear_model import LinearRegression #para el modelo\n",
        "\n",
        "lm_1= LinearRegression()\n",
        "lm_1.fit(dataTrain, dataTrain_Sales)"
      ],
      "execution_count": null,
      "outputs": [
        {
          "output_type": "execute_result",
          "data": {
            "text/plain": [
              "LinearRegression(copy_X=True, fit_intercept=True, n_jobs=None, normalize=False)"
            ]
          },
          "metadata": {
            "tags": []
          },
          "execution_count": 18
        }
      ]
    },
    {
      "cell_type": "code",
      "metadata": {
        "colab": {
          "base_uri": "https://localhost:8080/"
        },
        "id": "tYQtGZPe9u78",
        "outputId": "b102e32e-2345-4aa6-f667-f5490dcdd1b9"
      },
      "source": [
        "lm_1.coef_ #coeficientes, los betas. B1"
      ],
      "execution_count": null,
      "outputs": [
        {
          "output_type": "execute_result",
          "data": {
            "text/plain": [
              "array([[44813.4594101]])"
            ]
          },
          "metadata": {
            "tags": []
          },
          "execution_count": 19
        }
      ]
    },
    {
      "cell_type": "code",
      "metadata": {
        "colab": {
          "base_uri": "https://localhost:8080/"
        },
        "id": "r3qSJPIJ9x5b",
        "outputId": "e46e2fb3-80d1-4c67-a883-cbcca68511b7"
      },
      "source": [
        "lm_1.intercept_ #intercepto Bo"
      ],
      "execution_count": null,
      "outputs": [
        {
          "output_type": "execute_result",
          "data": {
            "text/plain": [
              "array([-92345.76508706])"
            ]
          },
          "metadata": {
            "tags": []
          },
          "execution_count": 20
        }
      ]
    },
    {
      "cell_type": "code",
      "metadata": {
        "colab": {
          "base_uri": "https://localhost:8080/"
        },
        "id": "2eahzIbK-8gk",
        "outputId": "e8ad5e06-8f0e-452b-b1b1-ae69f08fe450"
      },
      "source": [
        "dataset['OverallQual'].mean()"
      ],
      "execution_count": null,
      "outputs": [
        {
          "output_type": "execute_result",
          "data": {
            "text/plain": [
              "6.0993150684931505"
            ]
          },
          "metadata": {
            "tags": []
          },
          "execution_count": 21
        }
      ]
    },
    {
      "cell_type": "code",
      "metadata": {
        "colab": {
          "base_uri": "https://localhost:8080/"
        },
        "id": "nKCcitR2_aKD",
        "outputId": "0d3cb48f-073b-4498-e310-c9db94add987"
      },
      "source": [
        "#predicciones para la gráfica SOLO PARA LA GRÁFICA\n",
        "Y_predict_from_train = lm_1.predict(dataTrain)\n",
        "Y_predict_from_train"
      ],
      "execution_count": null,
      "outputs": [
        {
          "output_type": "execute_result",
          "data": {
            "text/plain": [
              "array([[221348.45078365],\n",
              "       [176534.99137354],\n",
              "       [176534.99137354],\n",
              "       ...,\n",
              "       [221348.45078365],\n",
              "       [131721.53196344],\n",
              "       [176534.99137354]])"
            ]
          },
          "metadata": {
            "tags": []
          },
          "execution_count": 22
        }
      ]
    },
    {
      "cell_type": "code",
      "metadata": {
        "colab": {
          "base_uri": "https://localhost:8080/",
          "height": 265
        },
        "id": "yDCe-ZIK_V0A",
        "outputId": "6025054a-fa08-41db-9708-7030332741c0"
      },
      "source": [
        "plt.scatter(dataset['OverallQual'],dataset['SalePrice'])\n",
        "plt.plot(dataTrain, Y_predict_from_train, color = \"red\", linewidth = 2 )\n",
        "plt.show()"
      ],
      "execution_count": null,
      "outputs": [
        {
          "output_type": "display_data",
          "data": {
            "image/png": "[encoded data removed]",
            "text/plain": [
              "<Figure size 432x288 with 1 Axes>"
            ]
          },
          "metadata": {
            "tags": [],
            "needs_background": "light"
          }
        }
      ]
    },
    {
      "cell_type": "markdown",
      "metadata": {
        "id": "pQD6ioiSANbM"
      },
      "source": [
        "R^2"
      ]
    },
    {
      "cell_type": "code",
      "metadata": {
        "colab": {
          "base_uri": "https://localhost:8080/"
        },
        "id": "5GIBsqJeAMbU",
        "outputId": "d7f94d3c-1b40-47d2-99e5-8fb16fd7bff3"
      },
      "source": [
        "lm_1.score(dataTrain, dataTrain_Sales)"
      ],
      "execution_count": null,
      "outputs": [
        {
          "output_type": "execute_result",
          "data": {
            "text/plain": [
              "0.6225100756995626"
            ]
          },
          "metadata": {
            "tags": []
          },
          "execution_count": 24
        }
      ]
    },
    {
      "cell_type": "code",
      "metadata": {
        "colab": {
          "base_uri": "https://localhost:8080/"
        },
        "id": "9qnlVydQAeVt",
        "outputId": "b2efaca4-fd9a-4255-c992-f09c717d187e"
      },
      "source": [
        "#RMSE\n",
        "from sklearn import metrics\n",
        "import math\n",
        "Y_predicts_test = lm_1.predict(dataTest)\n",
        "rmse = math.sqrt(metrics.mean_squared_error(dataTest_Sales, Y_predicts_test))\n",
        "rmse #comparar "
      ],
      "execution_count": null,
      "outputs": [
        {
          "output_type": "execute_result",
          "data": {
            "text/plain": [
              "47304.39032855153"
            ]
          },
          "metadata": {
            "tags": []
          },
          "execution_count": 26
        }
      ]
    },
    {
      "cell_type": "markdown",
      "metadata": {
        "id": "_BvW9pXCOb7v"
      },
      "source": [
        "#PROYECTO"
      ]
    },
    {
      "cell_type": "code",
      "metadata": {
        "id": "qgFWNqMVOeDx"
      },
      "source": [
        "#Parámetros para la función\n",
        "#variable indepediente\n",
        "X = dataset['OverallQual'].values\n",
        "Y = dataset['SalePrice'].values\n",
        "\n",
        "from sklearn.model_selection import train_test_split\n",
        "dataTrain, dataTest, dataTrain_Sales, dataTest_Sales = train_test_split(X, Y, test_size = 0.2, shuffle = True, random_state = 123)"
      ],
      "execution_count": null,
      "outputs": []
    },
    {
      "cell_type": "code",
      "metadata": {
        "colab": {
          "base_uri": "https://localhost:8080/"
        },
        "id": "netsfbAjPCWj",
        "outputId": "6281afe3-7de7-46d3-8479-ab88029ebd69"
      },
      "source": [
        "X = dataTrain\n",
        "Y = dataTrain_Sales\n",
        "errorArray = np.array([])\n",
        "b0Array = np.array([])\n",
        "b1Array = np.array([])\n",
        "\n",
        "learning_rate = 0.015\n",
        "b0 = 0\n",
        "b1 = 0\n",
        "epoch = 1000\n",
        "n = len(X)\n",
        "\n",
        "#por cada epoch estos son los pasos que tenemos que ir iterando\n",
        "\n",
        "for i in range(epoch):\n",
        "  y_estim = b0 + b1*X\n",
        "  gradB1 = 1/n*np.sum((y_estim - Y)*X)\n",
        "  gradB0 = 1/n*np.sum((y_estim - Y))\n",
        "\n",
        "  error = 1/2*n*np.sum(np.power(y_estim - Y,2))\n",
        "  errorArray = np.append(errorArray, error)\n",
        "\n",
        "  b0 = b0 - learning_rate*gradB0\n",
        "  b1= b1 - learning_rate*gradB1\n",
        "\n",
        "  b0Array = np.append(b0Array, error)\n",
        "  b1Array = np.append(b1Array, error)\n",
        "\n",
        "print('B0: {}, B1: {}'.format (b0, b1))"
      ],
      "execution_count": null,
      "outputs": [
        {
          "output_type": "stream",
          "text": [
            "B0: -45902.041689445214, B1: 37565.36260510504\n"
          ],
          "name": "stdout"
        }
      ]
    },
    {
      "cell_type": "code",
      "metadata": {
        "colab": {
          "base_uri": "https://localhost:8080/",
          "height": 276
        },
        "id": "ZBBBIgCBSiIc",
        "outputId": "4d0c0970-45a2-437b-83cf-89e0592761b1"
      },
      "source": [
        "plt.plot(range(epoch), errorArray) #primer gráfica\n",
        "plt.show()"
      ],
      "execution_count": null,
      "outputs": [
        {
          "output_type": "display_data",
          "data": {
            "image/png": "[encoded data removed]",
            "text/plain": [
              "<Figure size 432x288 with 1 Axes>"
            ]
          },
          "metadata": {
            "tags": [],
            "needs_background": "light"
          }
        }
      ]
    },
    {
      "cell_type": "code",
      "metadata": {
        "colab": {
          "base_uri": "https://localhost:8080/"
        },
        "id": "GSVTgrYrS3Yw",
        "outputId": "5bed4a55-a5e5-448d-8e28-06236bbef827"
      },
      "source": [
        "#RMSE\n",
        "from sklearn import metrics\n",
        "import math\n",
        "Y_predicts_test = b0 + b1*dataTest\n",
        "rmse = math.sqrt(metrics.mean_squared_error(dataTest_Sales, Y_predicts_test))\n",
        "rmse #comparar  SE TIENE QUE COMPARAR CON ALGO"
      ],
      "execution_count": null,
      "outputs": [
        {
          "output_type": "execute_result",
          "data": {
            "text/plain": [
              "49181.01784981099"
            ]
          },
          "metadata": {
            "tags": []
          },
          "execution_count": 56
        }
      ]
    },
    {
      "cell_type": "code",
      "metadata": {
        "colab": {
          "base_uri": "https://localhost:8080/",
          "height": 1000
        },
        "id": "70Y9Z78fT0Ws",
        "outputId": "8d451f08-a228-43a4-c662-c8d513288059"
      },
      "source": [
        "strPlot = \"plt.plot(\"\n",
        "\n",
        "#enumerate con ciclo el valor incluye el valor y el indice el 0\n",
        "for index, valor in enumerate(b0Array):\n",
        "  y_preds_temp = valor + b1Array[index]*X\n",
        "  print(\"---\")\n",
        "  plt.plot(X, y_preds_temp)\n",
        "  plt.show"
      ],
      "execution_count": null,
      "outputs": [
        {
          "output_type": "stream",
          "text": [
            "---\n",
            "---\n",
            "---\n",
            "---\n",
            "---\n",
            "---\n",
            "---\n",
            "---\n",
            "---\n",
            "---\n",
            "---\n",
            "---\n",
            "---\n",
            "---\n",
            "---\n",
            "---\n",
            "---\n",
            "---\n",
            "---\n",
            "---\n",
            "---\n",
            "---\n",
            "---\n",
            "---\n",
            "---\n",
            "---\n",
            "---\n",
            "---\n",
            "---\n",
            "---\n",
            "---\n",
            "---\n",
            "---\n",
            "---\n",
            "---\n",
            "---\n",
            "---\n",
            "---\n",
            "---\n",
            "---\n",
            "---\n",
            "---\n",
            "---\n",
            "---\n",
            "---\n",
            "---\n",
            "---\n",
            "---\n",
            "---\n",
            "---\n",
            "---\n",
            "---\n",
            "---\n",
            "---\n",
            "---\n",
            "---\n",
            "---\n",
            "---\n",
            "---\n",
            "---\n",
            "---\n",
            "---\n",
            "---\n",
            "---\n",
            "---\n",
            "---\n",
            "---\n",
            "---\n",
            "---\n",
            "---\n",
            "---\n",
            "---\n",
            "---\n",
            "---\n",
            "---\n",
            "---\n",
            "---\n",
            "---\n",
            "---\n",
            "---\n",
            "---\n",
            "---\n",
            "---\n",
            "---\n",
            "---\n",
            "---\n",
            "---\n",
            "---\n",
            "---\n",
            "---\n",
            "---\n",
            "---\n",
            "---\n",
            "---\n",
            "---\n",
            "---\n",
            "---\n",
            "---\n",
            "---\n",
            "---\n",
            "---\n",
            "---\n",
            "---\n",
            "---\n",
            "---\n",
            "---\n",
            "---\n",
            "---\n",
            "---\n",
            "---\n",
            "---\n",
            "---\n",
            "---\n",
            "---\n",
            "---\n",
            "---\n",
            "---\n",
            "---\n",
            "---\n",
            "---\n",
            "---\n",
            "---\n",
            "---\n",
            "---\n",
            "---\n",
            "---\n",
            "---\n",
            "---\n",
            "---\n",
            "---\n",
            "---\n",
            "---\n",
            "---\n",
            "---\n",
            "---\n",
            "---\n",
            "---\n",
            "---\n",
            "---\n",
            "---\n",
            "---\n",
            "---\n",
            "---\n",
            "---\n",
            "---\n",
            "---\n",
            "---\n",
            "---\n",
            "---\n",
            "---\n",
            "---\n",
            "---\n",
            "---\n",
            "---\n",
            "---\n",
            "---\n",
            "---\n",
            "---\n",
            "---\n",
            "---\n",
            "---\n",
            "---\n",
            "---\n",
            "---\n",
            "---\n",
            "---\n",
            "---\n",
            "---\n",
            "---\n",
            "---\n",
            "---\n",
            "---\n",
            "---\n",
            "---\n",
            "---\n",
            "---\n",
            "---\n",
            "---\n",
            "---\n",
            "---\n",
            "---\n",
            "---\n",
            "---\n",
            "---\n",
            "---\n",
            "---\n",
            "---\n",
            "---\n",
            "---\n",
            "---\n",
            "---\n",
            "---\n",
            "---\n",
            "---\n",
            "---\n",
            "---\n",
            "---\n",
            "---\n",
            "---\n",
            "---\n",
            "---\n",
            "---\n",
            "---\n",
            "---\n",
            "---\n",
            "---\n",
            "---\n",
            "---\n",
            "---\n",
            "---\n",
            "---\n",
            "---\n",
            "---\n",
            "---\n",
            "---\n",
            "---\n",
            "---\n",
            "---\n",
            "---\n",
            "---\n",
            "---\n",
            "---\n",
            "---\n",
            "---\n",
            "---\n",
            "---\n",
            "---\n",
            "---\n",
            "---\n",
            "---\n",
            "---\n",
            "---\n",
            "---\n",
            "---\n",
            "---\n",
            "---\n",
            "---\n",
            "---\n",
            "---\n",
            "---\n",
            "---\n",
            "---\n",
            "---\n",
            "---\n",
            "---\n",
            "---\n",
            "---\n",
            "---\n",
            "---\n",
            "---\n",
            "---\n",
            "---\n",
            "---\n",
            "---\n",
            "---\n",
            "---\n",
            "---\n",
            "---\n",
            "---\n",
            "---\n",
            "---\n",
            "---\n",
            "---\n",
            "---\n",
            "---\n",
            "---\n",
            "---\n",
            "---\n",
            "---\n",
            "---\n",
            "---\n",
            "---\n",
            "---\n",
            "---\n",
            "---\n",
            "---\n",
            "---\n",
            "---\n",
            "---\n",
            "---\n",
            "---\n",
            "---\n",
            "---\n",
            "---\n",
            "---\n",
            "---\n",
            "---\n",
            "---\n",
            "---\n",
            "---\n",
            "---\n",
            "---\n",
            "---\n",
            "---\n",
            "---\n",
            "---\n",
            "---\n",
            "---\n",
            "---\n",
            "---\n",
            "---\n",
            "---\n",
            "---\n",
            "---\n",
            "---\n",
            "---\n",
            "---\n",
            "---\n",
            "---\n",
            "---\n",
            "---\n",
            "---\n",
            "---\n",
            "---\n",
            "---\n",
            "---\n",
            "---\n",
            "---\n",
            "---\n",
            "---\n",
            "---\n",
            "---\n",
            "---\n",
            "---\n",
            "---\n",
            "---\n",
            "---\n",
            "---\n",
            "---\n",
            "---\n",
            "---\n",
            "---\n",
            "---\n",
            "---\n",
            "---\n",
            "---\n",
            "---\n",
            "---\n",
            "---\n",
            "---\n",
            "---\n",
            "---\n",
            "---\n",
            "---\n",
            "---\n",
            "---\n",
            "---\n",
            "---\n",
            "---\n",
            "---\n",
            "---\n",
            "---\n",
            "---\n",
            "---\n",
            "---\n",
            "---\n",
            "---\n",
            "---\n",
            "---\n",
            "---\n",
            "---\n",
            "---\n",
            "---\n",
            "---\n",
            "---\n",
            "---\n",
            "---\n",
            "---\n",
            "---\n",
            "---\n",
            "---\n",
            "---\n",
            "---\n",
            "---\n",
            "---\n",
            "---\n",
            "---\n",
            "---\n",
            "---\n",
            "---\n",
            "---\n",
            "---\n",
            "---\n",
            "---\n",
            "---\n",
            "---\n",
            "---\n",
            "---\n",
            "---\n",
            "---\n",
            "---\n",
            "---\n",
            "---\n",
            "---\n",
            "---\n",
            "---\n",
            "---\n",
            "---\n",
            "---\n",
            "---\n",
            "---\n",
            "---\n",
            "---\n",
            "---\n",
            "---\n",
            "---\n",
            "---\n",
            "---\n",
            "---\n",
            "---\n",
            "---\n",
            "---\n",
            "---\n",
            "---\n",
            "---\n",
            "---\n",
            "---\n",
            "---\n",
            "---\n",
            "---\n",
            "---\n",
            "---\n",
            "---\n",
            "---\n",
            "---\n",
            "---\n",
            "---\n",
            "---\n",
            "---\n",
            "---\n",
            "---\n",
            "---\n",
            "---\n",
            "---\n",
            "---\n",
            "---\n",
            "---\n",
            "---\n",
            "---\n",
            "---\n",
            "---\n",
            "---\n",
            "---\n",
            "---\n",
            "---\n",
            "---\n",
            "---\n",
            "---\n",
            "---\n",
            "---\n",
            "---\n",
            "---\n",
            "---\n",
            "---\n",
            "---\n",
            "---\n",
            "---\n",
            "---\n",
            "---\n",
            "---\n",
            "---\n",
            "---\n",
            "---\n",
            "---\n",
            "---\n",
            "---\n",
            "---\n",
            "---\n",
            "---\n",
            "---\n",
            "---\n",
            "---\n",
            "---\n",
            "---\n",
            "---\n",
            "---\n",
            "---\n",
            "---\n",
            "---\n",
            "---\n",
            "---\n",
            "---\n",
            "---\n",
            "---\n",
            "---\n",
            "---\n",
            "---\n",
            "---\n",
            "---\n",
            "---\n",
            "---\n",
            "---\n",
            "---\n",
            "---\n",
            "---\n",
            "---\n",
            "---\n",
            "---\n",
            "---\n",
            "---\n",
            "---\n",
            "---\n",
            "---\n",
            "---\n",
            "---\n",
            "---\n",
            "---\n",
            "---\n",
            "---\n",
            "---\n",
            "---\n",
            "---\n",
            "---\n",
            "---\n",
            "---\n",
            "---\n",
            "---\n",
            "---\n",
            "---\n",
            "---\n",
            "---\n",
            "---\n",
            "---\n",
            "---\n",
            "---\n",
            "---\n",
            "---\n",
            "---\n",
            "---\n",
            "---\n",
            "---\n",
            "---\n",
            "---\n",
            "---\n",
            "---\n",
            "---\n",
            "---\n",
            "---\n",
            "---\n",
            "---\n",
            "---\n",
            "---\n",
            "---\n",
            "---\n",
            "---\n",
            "---\n",
            "---\n",
            "---\n",
            "---\n",
            "---\n",
            "---\n",
            "---\n",
            "---\n",
            "---\n",
            "---\n",
            "---\n",
            "---\n",
            "---\n",
            "---\n",
            "---\n",
            "---\n",
            "---\n",
            "---\n",
            "---\n",
            "---\n",
            "---\n",
            "---\n",
            "---\n",
            "---\n",
            "---\n",
            "---\n",
            "---\n",
            "---\n",
            "---\n",
            "---\n",
            "---\n",
            "---\n",
            "---\n",
            "---\n",
            "---\n",
            "---\n",
            "---\n",
            "---\n",
            "---\n",
            "---\n",
            "---\n",
            "---\n",
            "---\n",
            "---\n",
            "---\n",
            "---\n",
            "---\n",
            "---\n",
            "---\n",
            "---\n",
            "---\n",
            "---\n",
            "---\n",
            "---\n",
            "---\n",
            "---\n",
            "---\n",
            "---\n",
            "---\n",
            "---\n",
            "---\n",
            "---\n",
            "---\n",
            "---\n",
            "---\n",
            "---\n",
            "---\n",
            "---\n",
            "---\n",
            "---\n",
            "---\n",
            "---\n",
            "---\n",
            "---\n",
            "---\n",
            "---\n",
            "---\n",
            "---\n",
            "---\n",
            "---\n",
            "---\n",
            "---\n",
            "---\n",
            "---\n",
            "---\n",
            "---\n",
            "---\n",
            "---\n",
            "---\n",
            "---\n",
            "---\n",
            "---\n",
            "---\n",
            "---\n",
            "---\n",
            "---\n",
            "---\n",
            "---\n",
            "---\n",
            "---\n",
            "---\n",
            "---\n",
            "---\n",
            "---\n",
            "---\n",
            "---\n",
            "---\n",
            "---\n",
            "---\n",
            "---\n",
            "---\n",
            "---\n",
            "---\n",
            "---\n",
            "---\n",
            "---\n",
            "---\n",
            "---\n",
            "---\n",
            "---\n",
            "---\n",
            "---\n",
            "---\n",
            "---\n",
            "---\n",
            "---\n",
            "---\n",
            "---\n",
            "---\n",
            "---\n",
            "---\n",
            "---\n",
            "---\n",
            "---\n",
            "---\n",
            "---\n",
            "---\n",
            "---\n",
            "---\n",
            "---\n",
            "---\n",
            "---\n",
            "---\n",
            "---\n",
            "---\n",
            "---\n",
            "---\n",
            "---\n",
            "---\n",
            "---\n",
            "---\n",
            "---\n",
            "---\n",
            "---\n",
            "---\n",
            "---\n",
            "---\n",
            "---\n",
            "---\n",
            "---\n",
            "---\n",
            "---\n",
            "---\n",
            "---\n",
            "---\n",
            "---\n",
            "---\n",
            "---\n",
            "---\n",
            "---\n",
            "---\n",
            "---\n",
            "---\n",
            "---\n",
            "---\n",
            "---\n",
            "---\n",
            "---\n",
            "---\n",
            "---\n",
            "---\n",
            "---\n",
            "---\n",
            "---\n",
            "---\n",
            "---\n",
            "---\n",
            "---\n",
            "---\n",
            "---\n",
            "---\n",
            "---\n",
            "---\n",
            "---\n",
            "---\n",
            "---\n",
            "---\n",
            "---\n",
            "---\n",
            "---\n",
            "---\n",
            "---\n",
            "---\n",
            "---\n",
            "---\n",
            "---\n",
            "---\n",
            "---\n",
            "---\n",
            "---\n",
            "---\n",
            "---\n",
            "---\n",
            "---\n",
            "---\n",
            "---\n",
            "---\n",
            "---\n",
            "---\n",
            "---\n",
            "---\n",
            "---\n",
            "---\n",
            "---\n",
            "---\n",
            "---\n",
            "---\n",
            "---\n",
            "---\n",
            "---\n",
            "---\n",
            "---\n",
            "---\n",
            "---\n",
            "---\n",
            "---\n",
            "---\n",
            "---\n",
            "---\n",
            "---\n",
            "---\n",
            "---\n",
            "---\n",
            "---\n",
            "---\n",
            "---\n",
            "---\n",
            "---\n",
            "---\n",
            "---\n",
            "---\n",
            "---\n",
            "---\n",
            "---\n",
            "---\n",
            "---\n",
            "---\n",
            "---\n",
            "---\n",
            "---\n",
            "---\n",
            "---\n",
            "---\n",
            "---\n",
            "---\n",
            "---\n",
            "---\n",
            "---\n",
            "---\n",
            "---\n",
            "---\n",
            "---\n",
            "---\n",
            "---\n",
            "---\n",
            "---\n",
            "---\n",
            "---\n",
            "---\n",
            "---\n",
            "---\n",
            "---\n",
            "---\n",
            "---\n",
            "---\n",
            "---\n",
            "---\n",
            "---\n",
            "---\n",
            "---\n",
            "---\n",
            "---\n",
            "---\n",
            "---\n",
            "---\n",
            "---\n",
            "---\n",
            "---\n",
            "---\n",
            "---\n",
            "---\n",
            "---\n",
            "---\n",
            "---\n",
            "---\n",
            "---\n",
            "---\n",
            "---\n",
            "---\n",
            "---\n",
            "---\n",
            "---\n",
            "---\n",
            "---\n",
            "---\n",
            "---\n",
            "---\n",
            "---\n",
            "---\n",
            "---\n",
            "---\n",
            "---\n",
            "---\n",
            "---\n",
            "---\n",
            "---\n",
            "---\n",
            "---\n",
            "---\n",
            "---\n",
            "---\n",
            "---\n",
            "---\n",
            "---\n",
            "---\n",
            "---\n",
            "---\n",
            "---\n",
            "---\n",
            "---\n",
            "---\n",
            "---\n",
            "---\n",
            "---\n",
            "---\n",
            "---\n",
            "---\n",
            "---\n",
            "---\n",
            "---\n",
            "---\n",
            "---\n",
            "---\n",
            "---\n",
            "---\n",
            "---\n",
            "---\n",
            "---\n",
            "---\n",
            "---\n",
            "---\n",
            "---\n",
            "---\n",
            "---\n",
            "---\n",
            "---\n",
            "---\n",
            "---\n",
            "---\n",
            "---\n",
            "---\n",
            "---\n",
            "---\n",
            "---\n",
            "---\n",
            "---\n",
            "---\n",
            "---\n",
            "---\n",
            "---\n",
            "---\n",
            "---\n",
            "---\n",
            "---\n",
            "---\n",
            "---\n",
            "---\n",
            "---\n",
            "---\n",
            "---\n",
            "---\n",
            "---\n",
            "---\n",
            "---\n",
            "---\n",
            "---\n",
            "---\n",
            "---\n",
            "---\n",
            "---\n",
            "---\n",
            "---\n",
            "---\n",
            "---\n",
            "---\n",
            "---\n",
            "---\n",
            "---\n",
            "---\n",
            "---\n",
            "---\n",
            "---\n",
            "---\n",
            "---\n",
            "---\n",
            "---\n",
            "---\n",
            "---\n",
            "---\n",
            "---\n",
            "---\n",
            "---\n",
            "---\n",
            "---\n",
            "---\n",
            "---\n",
            "---\n",
            "---\n",
            "---\n",
            "---\n",
            "---\n",
            "---\n",
            "---\n",
            "---\n",
            "---\n",
            "---\n",
            "---\n",
            "---\n",
            "---\n",
            "---\n",
            "---\n",
            "---\n",
            "---\n",
            "---\n",
            "---\n",
            "---\n",
            "---\n",
            "---\n",
            "---\n",
            "---\n",
            "---\n",
            "---\n",
            "---\n",
            "---\n",
            "---\n"
          ],
          "name": "stdout"
        },
        {
          "output_type": "display_data",
          "data": {
            "image/png": "[encoded data removed]",
            "text/plain": [
              "<Figure size 432x288 with 1 Axes>"
            ]
          },
          "metadata": {
            "tags": [],
            "needs_background": "light"
          }
        }
      ]
    }
  ]
}